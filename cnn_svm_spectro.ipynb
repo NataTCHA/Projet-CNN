{
  "cells": [
    {
      "cell_type": "markdown",
      "metadata": {
        "id": "bW-LJ1RR_I8P"
      },
      "source": [
        "De même que pour le CNN , nous avons le même SVM pour la modulation et les spectro afin de comparer équitablement.\n",
        "\n",
        "\n",
        "Importation des bibliothèques"
      ]
    },
    {
      "cell_type": "code",
      "execution_count": 24,
      "metadata": {
        "id": "xtfQ8ADm67Sz"
      },
      "outputs": [],
      "source": [
        "import os\n",
        "import cv2\n",
        "import numpy as np\n",
        "from sklearn.model_selection import train_test_split\n",
        "from sklearn.svm import SVC\n",
        "from sklearn.metrics import confusion_matrix, accuracy_score\n",
        "import matplotlib.pyplot as plt\n",
        "import seaborn as sns\n",
        "import pandas as pd\n",
        "import csv\n",
        "from sklearn import preprocessing\n",
        "from sklearn.metrics import precision_score\n"
      ]
    },
    {
      "cell_type": "markdown",
      "metadata": {
        "id": "WbxtnK8G_SDT"
      },
      "source": [
        "Importation du corpus train et test pour la classe malade et sain"
      ]
    },
    {
      "cell_type": "code",
      "execution_count": 25,
      "metadata": {
        "id": "M0Etirz8FL5Q"
      },
      "outputs": [],
      "source": [
        "# Fonction pour charger et prétraiter les images\n",
        "def load_and_preprocess_data(folder_path, label, img_rows=28, img_cols=28):\n",
        "    images = []\n",
        "    labels = []\n",
        "\n",
        "    for filename in os.listdir(folder_path):\n",
        "        path = os.path.join(folder_path, filename)\n",
        "        img = cv2.imread(path, 0).astype(np.uint8)\n",
        "        img = cv2.resize(img, (img_rows, img_cols))\n",
        "        images.append(img.flatten())\n",
        "        labels.append(label)\n",
        "\n",
        "    return images, labels\n",
        "\n",
        "# pour 'malade' and 'non_malade' classes\n",
        "malade_train_path = 'phonétique1/malade_spectro_glides/train'\n",
        "malade_test_path = 'phonétique1/malade_spectro_glides/test'\n",
        "\n",
        "non_malade_train_path = 'phonétique1/sain_spectro_glides/train'\n",
        "non_malade_test_path = 'phonétique1/sain_spectro_glides/test'\n",
        "\n",
        "# 'malade' train\n",
        "malade_train_images, malade_train_labels = load_and_preprocess_data(malade_train_path, label=0)\n",
        "\n",
        "# 'non_malade' train\n",
        "non_malade_train_images, non_malade_train_labels = load_and_preprocess_data(non_malade_train_path, label=1)\n",
        "\n",
        "# 'malade' test\n",
        "malade_test_images, malade_test_labels = load_and_preprocess_data(malade_test_path, label=0)\n",
        "\n",
        "# 'non_malade' test\n",
        "non_malade_test_images, non_malade_test_labels = load_and_preprocess_data(non_malade_test_path, label=1)\n",
        "\n",
        "\n",
        "x_train = np.concatenate([malade_train_images, non_malade_train_images], axis=0)\n",
        "y_train = np.concatenate([malade_train_labels, non_malade_train_labels], axis=0)\n",
        "\n",
        "x_test = np.concatenate([malade_test_images, non_malade_test_images], axis=0)\n",
        "y_test = np.concatenate([malade_test_labels, non_malade_test_labels], axis=0)\n",
        "\n",
        "scaler = preprocessing.StandardScaler().fit(x_train)\n",
        "x_train_scaled = scaler.transform(x_train)\n",
        "x_test_scaled = scaler.transform(x_test)\n"
      ]
    },
    {
      "cell_type": "markdown",
      "metadata": {
        "id": "OHozchui-pPc"
      },
      "source": [
        "Créer et entraîner le modèle SVM et visualiser la matrice de confusion"
      ]
    },
    {
      "cell_type": "code",
      "execution_count": 26,
      "metadata": {
        "colab": {
          "base_uri": "https://localhost:8080/",
          "height": 581
        },
        "id": "9OzfY_6_-Znk",
        "outputId": "66a62c7b-6ba9-4d15-d02a-b51fd2df308d"
      },
      "outputs": [
        {
          "data": {
            "image/png": "[encoded data removed]",
            "text/plain": [
              "<Figure size 800x600 with 2 Axes>"
            ]
          },
          "metadata": {},
          "output_type": "display_data"
        },
        {
          "name": "stdout",
          "output_type": "stream",
          "text": [
            "Precision: 0.6522\n"
          ]
        }
      ],
      "source": [
        "svm_model = SVC(kernel='rbf', C=1, gamma='scale')\n",
        "svm_model.fit(x_train_scaled, y_train)\n",
        "\n",
        "# Prédictions\n",
        "y_pred_svm = svm_model.predict(x_test_scaled)\n",
        "\n",
        "# Matrice de confusion\n",
        "conf_mat_svm = confusion_matrix(y_test, y_pred_svm)\n",
        "\n",
        "# Visualiser\n",
        "plt.figure(figsize=(8, 6))\n",
        "sns.heatmap(conf_mat_svm, annot=True, fmt='d', cmap='Blues', xticklabels=['malade', 'non_malade'], yticklabels=['malade', 'non_malade'])\n",
        "plt.title('Matrice de confusion SVM')\n",
        "plt.xlabel('Prédit')\n",
        "plt.ylabel('Réel')\n",
        "plt.show()\n",
        "\n",
        "# Calculer precision\n",
        "precision = precision_score(y_test, y_pred_svm)\n",
        "print(f'Precision: {precision:.4f}')"
      ]
    },
    {
      "cell_type": "markdown",
      "metadata": {
        "id": "FoAetJVc-4eg"
      },
      "source": [
        "les données mal classées"
      ]
    },
    {
      "cell_type": "code",
      "execution_count": 27,
      "metadata": {
        "colab": {
          "base_uri": "https://localhost:8080/"
        },
        "id": "DpnSCh4b-8U6",
        "outputId": "ac1b687b-0b72-4465-dbe5-05b86bac6c08"
      },
      "outputs": [
        {
          "name": "stdout",
          "output_type": "stream",
          "text": [
            "Données mal classées sauvegardées dans le fichier CSV : /content/drive/MyDrive/phonétique1/misclassified_data_svm.csv\n",
            "                                                    0           1           2\n",
            "0   spectrogram_SCA_H_AB04_2017_01_09_ModuleTransi...      malade  non_malade\n",
            "1   spectrogram_SCA_H_AB04_2017_01_09_ModuleTransi...      malade  non_malade\n",
            "2   spectrogram_SCA_H_AB04_2017_01_09_ModuleTransi...      malade  non_malade\n",
            "3   spectrogram_SCA_H_AB07_2020_10_26_ModuleTransi...      malade  non_malade\n",
            "4   spectrogram_SCA_H_AB07_2020_10_26_ModuleTransi...      malade  non_malade\n",
            "5   spectrogram_SCA_H_AB07_2020_10_26_ModuleTransi...      malade  non_malade\n",
            "6   spectrogram_SCA_H_AB07_2020_10_26_ModuleTransi...      malade  non_malade\n",
            "7   spectrogram_SCA_H_AB07_2020_10_26_ModuleTransi...      malade  non_malade\n",
            "8   spectrogram_SCA_H_AB07_2020_10_26_ModuleTransi...      malade  non_malade\n",
            "9   spectrogram_SCA_H_AB07_2020_10_26_ModuleTransi...      malade  non_malade\n",
            "10  spectrogram_SNC_F_AB09_2020_10_27_ModuleTransi...      malade  non_malade\n",
            "11  spectrogram_SNC_F_AB09_2020_10_27_ModuleTransi...      malade  non_malade\n",
            "12  spectrogram_SNC_F_AB09_2020_10_27_ModuleTransi...      malade  non_malade\n",
            "13  spectrogram_SNC_F_AB09_2020_10_27_ModuleTransi...      malade  non_malade\n",
            "14  spectrogram_SCA_F_AB10_2020_10_28_ModuleTransi...      malade  non_malade\n",
            "15  spectrogram_SCA_F_AB10_2020_10_28_ModuleTransi...      malade  non_malade\n",
            "16  spectrogram_SCA_F_AB10_2020_10_28_ModuleTransi...      malade  non_malade\n",
            "17  spectrogram_SCA_F_AB10_2020_10_28_ModuleTransi...      malade  non_malade\n",
            "18  spectrogram_SCA_F_AB10_2020_10_28_ModuleTransi...      malade  non_malade\n",
            "19  spectrogram_SCA_F_AB10_2020_10_28_ModuleTransi...      malade  non_malade\n",
            "20  spectrogram_SCA_F_AB10_2020_10_28_ModuleTransi...      malade  non_malade\n",
            "21  spectrogram_SCA_F_AB10_2020_10_28_ModuleTransi...      malade  non_malade\n",
            "22  spectrogram_SCA_F_AB10_2020_10_28_ModuleTransi...      malade  non_malade\n",
            "23  spectrogram_SCA_F_AB11_2020_10_29_ModuleTransi...      malade  non_malade\n",
            "24  spectrogram_SCA_F_AB11_2020_10_29_ModuleTransi...      malade  non_malade\n",
            "25  spectrogram_SCA_F_AB11_2020_10_29_ModuleTransi...      malade  non_malade\n",
            "26  spectrogram_SCA_F_AB11_2020_10_29_ModuleTransi...      malade  non_malade\n",
            "27  spectrogram_SCA_F_AB11_2020_10_29_ModuleTransi...      malade  non_malade\n",
            "28  spectrogram_SCA_F_AB11_2020_10_29_ModuleTransi...      malade  non_malade\n",
            "29  spectrogram_SCA_F_AB11_2020_10_29_ModuleTransi...      malade  non_malade\n",
            "30  spectrogram_SCA_F_AB11_2020_10_29_ModuleTransi...      malade  non_malade\n",
            "31  spectrogram_SCA_F_AB11_2020_10_29_ModuleTransi...      malade  non_malade\n",
            "32  spectrogram_SCA_F_AB11_2020_10_29_ModuleTransi...  non_malade      malade\n",
            "33  spectrogram_SCA_F_AB11_2020_10_29_ModuleTransi...  non_malade      malade\n",
            "34  spectrogram_SCA_H_AB13_2020_11_04_ModuleTransi...  non_malade      malade\n",
            "35  spectrogram_SCA_H_AB13_2020_11_04_ModuleTransi...  non_malade      malade\n",
            "36  spectrogram_SCA_H_AB13_2020_11_04_ModuleTransi...  non_malade      malade\n",
            "37  spectrogram_SCA_H_AB13_2020_11_04_ModuleTransi...  non_malade      malade\n",
            "38  spectrogram_SCA_H_AB13_2020_11_04_ModuleTransi...  non_malade      malade\n",
            "39  spectrogram_SCA_H_AB13_2020_11_04_ModuleTransi...  non_malade      malade\n",
            "40  spectrogram_SCA_H_AB13_2020_11_04_ModuleTransi...  non_malade      malade\n",
            "41  spectrogram_SCA_H_AB14_2020_11_10_ModuleTransi...  non_malade      malade\n",
            "42  spectrogram_SCA_F_AB19_2020_11_11_ModuleTransi...  non_malade      malade\n",
            "43  spectrogram_SCA_F_AB19_2020_11_11_ModuleTransi...  non_malade      malade\n",
            "44  spectrogram_SCA_F_AB19_2020_11_11_ModuleTransi...  non_malade      malade\n",
            "45  spectrogram_SCA_F_AB19_2020_11_11_ModuleTransi...  non_malade      malade\n",
            "46  spectrogram_SCA_F_AB19_2020_11_11_ModuleTransi...  non_malade      malade\n",
            "47  spectrogram_SCA_F_AB20_2020_11_11_ModuleTransi...  non_malade      malade\n",
            "48  spectrogram_SCA_F_AB20_2020_11_11_ModuleTransi...  non_malade      malade\n",
            "49  spectrogram_SCA_F_AB20_2020_11_11_ModuleTransi...  non_malade      malade\n",
            "50  spectrogram_SCA_F_AB20_2020_11_11_ModuleTransi...  non_malade      malade\n",
            "51  spectrogram_SCA_F_AB20_2020_11_11_ModuleTransi...  non_malade      malade\n",
            "52  spectrogram_SCA_F_AB20_2020_11_11_ModuleTransi...  non_malade      malade\n",
            "53  spectrogram_SCA_F_AB20_2020_11_11_ModuleTransi...  non_malade      malade\n",
            "54  spectrogram_SCA_F_AB21_2020_11_12_ModuleTransi...  non_malade      malade\n",
            "55  spectrogram_SCA_F_AB21_2020_11_12_ModuleTransi...  non_malade      malade\n"
          ]
        }
      ],
      "source": [
        "# Obtenir les noms de fichiers d'images pour 'malade' et 'non_malade'\n",
        "malade_image_names = [os.path.basename(os.path.join(malade_path, 'train', filename)) for filename in os.listdir(os.path.join(malade_path, 'train'))]\n",
        "non_malade_image_names = [os.path.basename(os.path.join(non_malade_path, 'train', filename)) for filename in os.listdir(os.path.join(non_malade_path, 'train'))]\n",
        "\n",
        "# Sauvegarder les données mal classées dans un fichier CSV\n",
        "misclassified_data_svm = []\n",
        "for i in range(len(y_test)):\n",
        "    if y_test[i] != y_pred_svm[i]:\n",
        "        actual_class = 'malade' if y_test[i] == 0 else 'non_malade'\n",
        "        predicted_class = 'malade' if y_pred_svm[i] == 0 else 'non_malade'\n",
        "        image_name = malade_image_names[i] if i < len(malade_image_names) else non_malade_image_names[i - len(malade_image_names)]\n",
        "        misclassified_data_svm.append([image_name, actual_class, predicted_class])\n",
        "\n",
        "csv_file_path_svm = '/content/drive/MyDrive/phonétique1/misclassified_data_svm.csv'\n",
        "header_svm = ['Nom de l\\'image', 'Classe Réelle', 'Classe Prédite']\n",
        "\n",
        "with open(csv_file_path_svm, mode='w', newline='') as file:\n",
        "    writer = csv.writer(file)\n",
        "    writer.writerow(header_svm)\n",
        "    writer.writerows(misclassified_data_svm)\n",
        "\n",
        "print(f\"Données mal classées sauvegardées dans le fichier CSV : {csv_file_path_svm}\")\n",
        "\n",
        "# Afficher les données mal classées\n",
        "res_svm = pd.DataFrame(misclassified_data_svm)\n",
        "print(res_svm)"
      ]
    },
    {
      "cell_type": "markdown",
      "metadata": {},
      "source": [
        "Le SVM s'en sort beaucoup moins bien que le spectrogramme pour la classification, particulièrement pour les malades. il y a un ecart de 15 \\% avec la modulation ce qui n'est pas rien. L'ecart est beaucoup plus grand qu'avec le CNN ou nous n'avons que 5\\% d'écart entre les deux inputs."
      ]
    }
  ],
  "metadata": {
    "colab": {
      "provenance": []
    },
    "kernelspec": {
      "display_name": "Python 3",
      "name": "python3"
    },
    "language_info": {
      "name": "python"
    }
  },
  "nbformat": 4,
  "nbformat_minor": 0
}
