{
 "cells": [
  {
   "cell_type": "markdown",
   "metadata": {},
   "source": [
    "**CNN avec bande modulation cepstrale sur corpus glides**"
   ]
  },
  {
   "cell_type": "markdown",
   "metadata": {},
   "source": [
    "Importation des bibliothèques"
   ]
  },
  {
   "cell_type": "code",
   "execution_count": 1,
   "metadata": {},
   "outputs": [
    {
     "name": "stdout",
     "output_type": "stream",
     "text": [
      "WARNING:tensorflow:From C:\\Users\\Natou\\AppData\\Local\\Packages\\PythonSoftwareFoundation.Python.3.10_qbz5n2kfra8p0\\LocalCache\\local-packages\\Python310\\site-packages\\keras\\src\\losses.py:2976: The name tf.losses.sparse_softmax_cross_entropy is deprecated. Please use tf.compat.v1.losses.sparse_softmax_cross_entropy instead.\n",
      "\n"
     ]
    }
   ],
   "source": [
    "import os\n",
    "import cv2\n",
    "import numpy as np\n",
    "from sklearn.model_selection import train_test_split\n",
    "from tensorflow.keras import Sequential\n",
    "from tensorflow.keras.layers import Conv2D, MaxPooling2D, Flatten, Dense, Dropout\n",
    "from tensorflow.keras.callbacks import EarlyStopping, LearningRateScheduler\n",
    "from tensorflow.keras.optimizers import Adam\n",
    "from tensorflow.keras.layers import BatchNormalization\n",
    "from keras.layers import ZeroPadding2D, Conv2D\n",
    "from sklearn.metrics import confusion_matrix\n",
    "import matplotlib.pyplot as plt\n",
    "import seaborn as sns\n",
    "import random\n",
    "import numpy as np\n",
    "import glob\n",
    "import csv\n",
    "from sklearn.metrics import confusion_matrix"
   ]
  },
  {
   "cell_type": "markdown",
   "metadata": {},
   "source": [
    "Importation du corpus train et test pour la classe malade et sain a été réalisation en deux groupes pour chacun , malade et non malade. \n",
    "Le choix de la taille des images a été fait empiriquement, au départ nous voulions faire 1*28 car l'image d'entrée est une bande, neanmoins les performances du modèle baissées drastiquement. De plus cette importation en bande nous laissait peu de marge de manoeuvre pour le choix des kernels , alors, nous avons opté pour un format carré."
   ]
  },
  {
   "cell_type": "code",
   "execution_count": 2,
   "metadata": {},
   "outputs": [],
   "source": [
    "list_malade = glob.glob('malade_mfcc_glides/test/*')\n",
    "list_ok = glob.glob('sain_mfcc_glides/test/*')\n",
    "img_rows=28\n",
    "img_cols=28\n",
    "x_test = []  \n",
    "y_test = []\n",
    "\n",
    "dico = {'malade': 0, 'non_malade': 1}\n",
    "#test\n",
    "for path in list_malade:\n",
    "    x=cv2.imread(path,0).astype(np.uint8)\n",
    "    x=cv2.resize(x,(img_rows,img_cols))\n",
    "    y = dico['malade']\n",
    "    x_test.append(x)\n",
    "    y_test.append(y)\n",
    "\n",
    "for path in list_ok:\n",
    "    x=cv2.imread(path,0).astype(np.uint8)\n",
    "    x=cv2.resize(x,(img_rows,img_cols))\n",
    "    y = dico['non_malade']\n",
    "    x_test.append(x)\n",
    "    y_test.append(y)\n",
    "\n",
    "\n",
    "#train\n",
    "\n",
    "list_malade_train = glob.glob('malade_mfcc_glides/train/*')\n",
    "list_ok_train = glob.glob('sain_mfcc_glides/train/*')\n",
    "\n",
    "x_train = []\n",
    "y_train = []\n",
    "\n",
    "\n",
    "for path in list_malade_train:\n",
    "    x = cv2.imread(path, 0).astype(np.uint8)\n",
    "    x = cv2.resize(x, (img_rows, img_cols))\n",
    "    y = dico['malade']\n",
    "    x_train.append(x)\n",
    "    y_train.append(y)\n",
    "\n",
    "for path in list_ok_train:\n",
    "    x = cv2.imread(path, 0).astype(np.uint8)\n",
    "    x = cv2.resize(x, (img_rows, img_cols))\n",
    "    y = dico['non_malade']\n",
    "    x_train.append(x)\n",
    "    y_train.append(y)\n",
    "\n",
    "x_train = np.array(x_train)\n",
    "y_train = np.array(y_train)\n",
    "x_test = np.array(x_test)\n",
    "y_test = np.array(y_test)\n",
    "x_train = x_train.reshape(-1, img_rows, img_cols, 1)\n",
    "x_test = x_test.reshape(-1, img_rows, img_cols, 1)\n",
    "x_train = x_train.astype('float32') / 255\n",
    "x_test = x_test.astype('float32') / 255"
   ]
  },
  {
   "cell_type": "markdown",
   "metadata": {},
   "source": [
    "Définition de la fonction sheduler permettant de faire évoluer le taux d'apprentissage en fonction du nombre d'epoch"
   ]
  },
  {
   "cell_type": "code",
   "execution_count": 3,
   "metadata": {},
   "outputs": [],
   "source": [
    "def lr_schedule(epoch):\n",
    "    lr = 1e-4\n",
    "    if epoch > 30:\n",
    "        lr *= 0.1\n",
    "    elif epoch > 20:\n",
    "        lr *= 0.5\n",
    "    return lr"
   ]
  },
  {
   "cell_type": "markdown",
   "metadata": {},
   "source": [
    "Lors de l'initialisation du modèle nous avons opté pour une couche de normalisation sous la plupart des couches denses, cela a permis d'améliorer les performances du programme. Le choix de la fonction d'activation sigmoid s'est fait car c'est une tâche de classification en 2 classes. L'activation relu a été utilisée car c'est celle qui a le mieux fonctionné. La fonction tanh fonctionnait aussi plutôt bien mais, nous avions des pertes de légère perte de performances."
   ]
  },
  {
   "cell_type": "code",
   "execution_count": 4,
   "metadata": {},
   "outputs": [
    {
     "name": "stdout",
     "output_type": "stream",
     "text": [
      "WARNING:tensorflow:From C:\\Users\\Natou\\AppData\\Local\\Packages\\PythonSoftwareFoundation.Python.3.10_qbz5n2kfra8p0\\LocalCache\\local-packages\\Python310\\site-packages\\keras\\src\\backend.py:873: The name tf.get_default_graph is deprecated. Please use tf.compat.v1.get_default_graph instead.\n",
      "\n",
      "WARNING:tensorflow:From C:\\Users\\Natou\\AppData\\Local\\Packages\\PythonSoftwareFoundation.Python.3.10_qbz5n2kfra8p0\\LocalCache\\local-packages\\Python310\\site-packages\\keras\\src\\layers\\normalization\\batch_normalization.py:979: The name tf.nn.fused_batch_norm is deprecated. Please use tf.compat.v1.nn.fused_batch_norm instead.\n",
      "\n",
      "Model: \"sequential\"\n",
      "_________________________________________________________________\n",
      " Layer (type)                Output Shape              Param #   \n",
      "=================================================================\n",
      " conv2d (Conv2D)             (None, 28, 28, 512)       2560      \n",
      "                                                                 \n",
      " batch_normalization (Batch  (None, 28, 28, 512)       2048      \n",
      " Normalization)                                                  \n",
      "                                                                 \n",
      " zero_padding2d (ZeroPaddin  (None, 28, 28, 512)       0         \n",
      " g2D)                                                            \n",
      "                                                                 \n",
      " max_pooling2d (MaxPooling2  (None, 14, 14, 512)       0         \n",
      " D)                                                              \n",
      "                                                                 \n",
      " conv2d_1 (Conv2D)           (None, 14, 14, 256)       524544    \n",
      "                                                                 \n",
      " batch_normalization_1 (Bat  (None, 14, 14, 256)       1024      \n",
      " chNormalization)                                                \n",
      "                                                                 \n",
      " max_pooling2d_1 (MaxPoolin  (None, 7, 7, 256)         0         \n",
      " g2D)                                                            \n",
      "                                                                 \n",
      " conv2d_2 (Conv2D)           (None, 7, 7, 128)         131200    \n",
      "                                                                 \n",
      " batch_normalization_2 (Bat  (None, 7, 7, 128)         512       \n",
      " chNormalization)                                                \n",
      "                                                                 \n",
      " max_pooling2d_2 (MaxPoolin  (None, 3, 3, 128)         0         \n",
      " g2D)                                                            \n",
      "                                                                 \n",
      " flatten (Flatten)           (None, 1152)              0         \n",
      "                                                                 \n",
      " dropout (Dropout)           (None, 1152)              0         \n",
      "                                                                 \n",
      " dense (Dense)               (None, 512)               590336    \n",
      "                                                                 \n",
      " batch_normalization_3 (Bat  (None, 512)               2048      \n",
      " chNormalization)                                                \n",
      "                                                                 \n",
      " dense_1 (Dense)             (None, 256)               131328    \n",
      "                                                                 \n",
      " batch_normalization_4 (Bat  (None, 256)               1024      \n",
      " chNormalization)                                                \n",
      "                                                                 \n",
      " dense_2 (Dense)             (None, 2)                 514       \n",
      "                                                                 \n",
      "=================================================================\n",
      "Total params: 1387138 (5.29 MB)\n",
      "Trainable params: 1383810 (5.28 MB)\n",
      "Non-trainable params: 3328 (13.00 KB)\n",
      "_________________________________________________________________\n"
     ]
    }
   ],
   "source": [
    "model = Sequential()\n",
    "model.add(Conv2D(512, kernel_size=(2, 2), activation='relu', input_shape=(img_rows, img_cols, 1), padding='same'))\n",
    "model.add(BatchNormalization())\n",
    "value_top = 0\n",
    "value_bottom = 0\n",
    "value_left = 0\n",
    "value_right = 0\n",
    "model.add(ZeroPadding2D(padding=((value_top, value_bottom), (value_left, value_right))))\n",
    "model.add(MaxPooling2D(pool_size=(2, 2)))\n",
    "model.add(Conv2D(256, (2, 2), activation='relu', padding='same'))\n",
    "model.add(BatchNormalization())\n",
    "model.add(MaxPooling2D(pool_size=(2, 2)))\n",
    "model.add(Conv2D(128, (2, 2), activation='relu', padding='same'))\n",
    "model.add(BatchNormalization())\n",
    "model.add(MaxPooling2D(pool_size=(2, 2)))\n",
    "model.add(Flatten())\n",
    "model.add(Dropout(0.5))\n",
    "model.add(Dense(512, activation='relu'))\n",
    "model.add(BatchNormalization())\n",
    "model.add(Dense(256, activation='relu'))\n",
    "model.add(BatchNormalization())\n",
    "model.add(Dense(2, activation='sigmoid'))\n",
    "model.summary()"
   ]
  },
  {
   "cell_type": "markdown",
   "metadata": {},
   "source": [
    "Lancement de l'entrainement et de l'évaluation. Nous avons choisi 25 batch pour que ça concorde avec notre nombre de donnée. Le choix de l'epoch s'est fait à l'aide de la visualitation du graphique du nombre d'epoch en fonction du taux d'apprentissage. De plus nous avons la fonction early stopping qui nous permet d'éviter le surapprentissage, lorsque le modèle cesse de s\"améliorer nous l'arrêtons."
   ]
  },
  {
   "cell_type": "code",
   "execution_count": 5,
   "metadata": {},
   "outputs": [
    {
     "name": "stdout",
     "output_type": "stream",
     "text": [
      "WARNING:tensorflow:From C:\\Users\\Natou\\AppData\\Local\\Packages\\PythonSoftwareFoundation.Python.3.10_qbz5n2kfra8p0\\LocalCache\\local-packages\\Python310\\site-packages\\keras\\src\\optimizers\\__init__.py:309: The name tf.train.Optimizer is deprecated. Please use tf.compat.v1.train.Optimizer instead.\n",
      "\n"
     ]
    },
    {
     "name": "stdout",
     "output_type": "stream",
     "text": [
      "Epoch 1/70\n",
      "WARNING:tensorflow:From C:\\Users\\Natou\\AppData\\Local\\Packages\\PythonSoftwareFoundation.Python.3.10_qbz5n2kfra8p0\\LocalCache\\local-packages\\Python310\\site-packages\\keras\\src\\utils\\tf_utils.py:492: The name tf.ragged.RaggedTensorValue is deprecated. Please use tf.compat.v1.ragged.RaggedTensorValue instead.\n",
      "\n",
      "WARNING:tensorflow:From C:\\Users\\Natou\\AppData\\Local\\Packages\\PythonSoftwareFoundation.Python.3.10_qbz5n2kfra8p0\\LocalCache\\local-packages\\Python310\\site-packages\\keras\\src\\engine\\base_layer_utils.py:384: The name tf.executing_eagerly_outside_functions is deprecated. Please use tf.compat.v1.executing_eagerly_outside_functions instead.\n",
      "\n",
      "19/19 [==============================] - 2s 55ms/step - loss: 0.9611 - accuracy: 0.5941 - val_loss: 0.8061 - val_accuracy: 0.0000e+00 - lr: 1.0000e-04\n",
      "Epoch 2/70\n",
      "19/19 [==============================] - 1s 45ms/step - loss: 0.7632 - accuracy: 0.6364 - val_loss: 0.8475 - val_accuracy: 0.0000e+00 - lr: 1.0000e-04\n",
      "Epoch 3/70\n",
      "19/19 [==============================] - 1s 44ms/step - loss: 0.6692 - accuracy: 0.6892 - val_loss: 0.8678 - val_accuracy: 0.0000e+00 - lr: 1.0000e-04\n",
      "Epoch 4/70\n",
      "19/19 [==============================] - 1s 44ms/step - loss: 0.6504 - accuracy: 0.7019 - val_loss: 0.8971 - val_accuracy: 0.0000e+00 - lr: 1.0000e-04\n",
      "Epoch 5/70\n",
      "19/19 [==============================] - 1s 49ms/step - loss: 0.5559 - accuracy: 0.7611 - val_loss: 0.7681 - val_accuracy: 0.0000e+00 - lr: 1.0000e-04\n",
      "Epoch 6/70\n",
      "19/19 [==============================] - 4s 185ms/step - loss: 0.5417 - accuracy: 0.7526 - val_loss: 0.6420 - val_accuracy: 1.0000 - lr: 1.0000e-04\n",
      "Epoch 7/70\n",
      "19/19 [==============================] - 3s 183ms/step - loss: 0.5616 - accuracy: 0.7315 - val_loss: 0.5501 - val_accuracy: 1.0000 - lr: 1.0000e-04\n",
      "Epoch 8/70\n",
      "19/19 [==============================] - 3s 170ms/step - loss: 0.4651 - accuracy: 0.7949 - val_loss: 0.4727 - val_accuracy: 1.0000 - lr: 1.0000e-04\n",
      "Epoch 9/70\n",
      "19/19 [==============================] - 1s 44ms/step - loss: 0.4941 - accuracy: 0.7801 - val_loss: 0.4347 - val_accuracy: 1.0000 - lr: 1.0000e-04\n",
      "Epoch 10/70\n",
      "19/19 [==============================] - 1s 45ms/step - loss: 0.4245 - accuracy: 0.8161 - val_loss: 0.4694 - val_accuracy: 1.0000 - lr: 1.0000e-04\n",
      "Epoch 11/70\n",
      "19/19 [==============================] - 1s 44ms/step - loss: 0.4021 - accuracy: 0.8224 - val_loss: 0.5309 - val_accuracy: 1.0000 - lr: 1.0000e-04\n",
      "Epoch 12/70\n",
      "19/19 [==============================] - 1s 44ms/step - loss: 0.4195 - accuracy: 0.8330 - val_loss: 0.5458 - val_accuracy: 1.0000 - lr: 1.0000e-04\n",
      "Epoch 13/70\n",
      "19/19 [==============================] - 1s 43ms/step - loss: 0.3995 - accuracy: 0.8245 - val_loss: 0.6729 - val_accuracy: 0.6387 - lr: 1.0000e-04\n",
      "Epoch 14/70\n",
      "19/19 [==============================] - 1s 44ms/step - loss: 0.3261 - accuracy: 0.8584 - val_loss: 0.6551 - val_accuracy: 0.6387 - lr: 1.0000e-04\n",
      "Epoch 15/70\n",
      "19/19 [==============================] - 1s 43ms/step - loss: 0.3217 - accuracy: 0.8626 - val_loss: 0.8167 - val_accuracy: 0.0924 - lr: 1.0000e-04\n",
      "Epoch 16/70\n",
      "19/19 [==============================] - 1s 42ms/step - loss: 0.3417 - accuracy: 0.8520 - val_loss: 0.7838 - val_accuracy: 0.2521 - lr: 1.0000e-04\n",
      "Epoch 17/70\n",
      "19/19 [==============================] - 1s 43ms/step - loss: 0.3232 - accuracy: 0.8414 - val_loss: 0.6573 - val_accuracy: 0.5882 - lr: 1.0000e-04\n",
      "Epoch 18/70\n",
      "19/19 [==============================] - 1s 42ms/step - loss: 0.3293 - accuracy: 0.8541 - val_loss: 0.6476 - val_accuracy: 0.6050 - lr: 1.0000e-04\n",
      "Epoch 19/70\n",
      "19/19 [==============================] - 2s 84ms/step - loss: 0.2871 - accuracy: 0.8689 - val_loss: 0.6476 - val_accuracy: 0.6303 - lr: 1.0000e-04\n",
      "Epoch 20/70\n",
      "19/19 [==============================] - 3s 169ms/step - loss: 0.2723 - accuracy: 0.8816 - val_loss: 0.7036 - val_accuracy: 0.5126 - lr: 1.0000e-04\n",
      "Epoch 21/70\n",
      "19/19 [==============================] - 3s 143ms/step - loss: 0.2564 - accuracy: 0.8837 - val_loss: 0.8633 - val_accuracy: 0.3950 - lr: 1.0000e-04\n",
      "Epoch 22/70\n",
      "19/19 [==============================] - 1s 43ms/step - loss: 0.2487 - accuracy: 0.8795 - val_loss: 0.8953 - val_accuracy: 0.3613 - lr: 5.0000e-05\n",
      "Epoch 23/70\n",
      "19/19 [==============================] - 1s 41ms/step - loss: 0.2294 - accuracy: 0.9027 - val_loss: 0.9505 - val_accuracy: 0.3529 - lr: 5.0000e-05\n",
      "Epoch 24/70\n",
      "19/19 [==============================] - 1s 41ms/step - loss: 0.2175 - accuracy: 0.9197 - val_loss: 0.9316 - val_accuracy: 0.3697 - lr: 5.0000e-05\n",
      "Epoch 25/70\n",
      "19/19 [==============================] - 1s 42ms/step - loss: 0.2041 - accuracy: 0.9218 - val_loss: 1.1050 - val_accuracy: 0.3193 - lr: 5.0000e-05\n",
      "Epoch 26/70\n",
      "19/19 [==============================] - 1s 43ms/step - loss: 0.1915 - accuracy: 0.9218 - val_loss: 1.2405 - val_accuracy: 0.2773 - lr: 5.0000e-05\n",
      "Epoch 27/70\n",
      "19/19 [==============================] - 1s 43ms/step - loss: 0.1968 - accuracy: 0.9197 - val_loss: 1.1451 - val_accuracy: 0.3361 - lr: 5.0000e-05\n",
      "Epoch 28/70\n",
      "19/19 [==============================] - 1s 43ms/step - loss: 0.1749 - accuracy: 0.9429 - val_loss: 1.0601 - val_accuracy: 0.4118 - lr: 5.0000e-05\n",
      "Epoch 29/70\n",
      "19/19 [==============================] - 1s 42ms/step - loss: 0.1737 - accuracy: 0.9408 - val_loss: 1.2516 - val_accuracy: 0.3277 - lr: 5.0000e-05\n",
      "Epoch 30/70\n",
      "19/19 [==============================] - 1s 42ms/step - loss: 0.1483 - accuracy: 0.9429 - val_loss: 1.3204 - val_accuracy: 0.3697 - lr: 5.0000e-05\n",
      "Epoch 31/70\n",
      "19/19 [==============================] - 1s 42ms/step - loss: 0.1649 - accuracy: 0.9366 - val_loss: 1.3895 - val_accuracy: 0.3529 - lr: 5.0000e-05\n",
      "Epoch 32/70\n",
      "19/19 [==============================] - 1s 42ms/step - loss: 0.1299 - accuracy: 0.9577 - val_loss: 1.4031 - val_accuracy: 0.3697 - lr: 1.0000e-05\n",
      "Epoch 33/70\n",
      "19/19 [==============================] - 1s 42ms/step - loss: 0.1432 - accuracy: 0.9366 - val_loss: 1.3510 - val_accuracy: 0.3866 - lr: 1.0000e-05\n",
      "Epoch 34/70\n",
      "19/19 [==============================] - 1s 41ms/step - loss: 0.1629 - accuracy: 0.9345 - val_loss: 1.3359 - val_accuracy: 0.4286 - lr: 1.0000e-05\n",
      "Epoch 35/70\n",
      "19/19 [==============================] - 1s 42ms/step - loss: 0.1629 - accuracy: 0.9387 - val_loss: 1.3249 - val_accuracy: 0.4370 - lr: 1.0000e-05\n",
      "Epoch 36/70\n",
      "19/19 [==============================] - 1s 42ms/step - loss: 0.1314 - accuracy: 0.9471 - val_loss: 1.2957 - val_accuracy: 0.4454 - lr: 1.0000e-05\n",
      "Epoch 37/70\n",
      "19/19 [==============================] - 1s 42ms/step - loss: 0.1545 - accuracy: 0.9408 - val_loss: 1.2649 - val_accuracy: 0.4622 - lr: 1.0000e-05\n",
      "Epoch 38/70\n",
      "19/19 [==============================] - 1s 42ms/step - loss: 0.1223 - accuracy: 0.9577 - val_loss: 1.2952 - val_accuracy: 0.4454 - lr: 1.0000e-05\n",
      "Epoch 39/70\n",
      "19/19 [==============================] - 1s 42ms/step - loss: 0.1902 - accuracy: 0.9197 - val_loss: 1.3133 - val_accuracy: 0.4538 - lr: 1.0000e-05\n",
      "Epoch 40/70\n",
      "19/19 [==============================] - 1s 42ms/step - loss: 0.1348 - accuracy: 0.9535 - val_loss: 1.3767 - val_accuracy: 0.4118 - lr: 1.0000e-05\n",
      "Epoch 41/70\n",
      "19/19 [==============================] - 1s 43ms/step - loss: 0.1789 - accuracy: 0.9302 - val_loss: 1.3089 - val_accuracy: 0.4706 - lr: 1.0000e-05\n",
      "Epoch 42/70\n",
      "19/19 [==============================] - 1s 42ms/step - loss: 0.1149 - accuracy: 0.9556 - val_loss: 1.2484 - val_accuracy: 0.4958 - lr: 1.0000e-05\n",
      "Epoch 43/70\n",
      "19/19 [==============================] - 1s 42ms/step - loss: 0.1239 - accuracy: 0.9535 - val_loss: 1.2589 - val_accuracy: 0.4958 - lr: 1.0000e-05\n",
      "Epoch 44/70\n",
      "19/19 [==============================] - 1s 43ms/step - loss: 0.1167 - accuracy: 0.9619 - val_loss: 1.2329 - val_accuracy: 0.4958 - lr: 1.0000e-05\n",
      "Epoch 44: early stopping\n",
      "1/6 [====>.........................] - ETA: 0s - loss: 0.1536 - accuracy: 0.9688"
     ]
    },
    {
     "name": "stderr",
     "output_type": "stream",
     "text": [
      "C:\\Users\\Natou\\AppData\\Local\\Packages\\PythonSoftwareFoundation.Python.3.10_qbz5n2kfra8p0\\LocalCache\\local-packages\\Python310\\site-packages\\keras\\src\\engine\\training.py:3103: UserWarning: You are saving your model as an HDF5 file via `model.save()`. This file format is considered legacy. We recommend using instead the native Keras format, e.g. `model.save('my_model.keras')`.\n",
      "  saving_api.save_model(\n"
     ]
    },
    {
     "name": "stdout",
     "output_type": "stream",
     "text": [
      "6/6 [==============================] - 0s 20ms/step - loss: 0.2707 - accuracy: 0.8636\n",
      "Test loss: 0.2707417607307434\n",
      "Test accuracy: 0.8636363744735718\n"
     ]
    }
   ],
   "source": [
    "es = EarlyStopping(monitor='val_loss', mode='min', verbose=3, patience=35)\n",
    "lr_scheduler = LearningRateScheduler(lr_schedule)\n",
    "model.compile(loss='sparse_categorical_crossentropy', optimizer='adam', metrics=['accuracy'])\n",
    "model.fit(x_train, y_train, batch_size=25, epochs=70, verbose=1, validation_split=0.2, callbacks=[es, lr_scheduler])\n",
    "model.save('model.h5')\n",
    "score=model.evaluate(x_test, y_test, verbose=1)\n",
    "\n",
    "print('Test loss:', score[0])\n",
    "print('Test accuracy:', score[1])\n"
   ]
  },
  {
   "cell_type": "markdown",
   "metadata": {},
   "source": [
    "L'accuracy est à 85 ici. Lorsque nous lançons à plusieurs reprise l'accuracy oscille entre 85 et 90.\n",
    "Passons au lancement de la prédiction sur le corpus test. Nous pouvons voir une matrice de confusion avec une diagonale bien lisible. Il a néanmoins plus de mal à classer les locuteurs de la classe non malade en raison de leur grand diversité. Les malades ont souvent le même pattern , un débit plus lent et une intensité similaire, c'est moins le cas dans le groupe non malade."
   ]
  },
  {
   "cell_type": "code",
   "execution_count": 6,
   "metadata": {},
   "outputs": [
    {
     "name": "stdout",
     "output_type": "stream",
     "text": [
      "6/6 [==============================] - 0s 18ms/step\n"
     ]
    },
    {
     "data": {
      "image/png": "[encoded data removed]",
      "text/plain": [
       "<Figure size 800x600 with 2 Axes>"
      ]
     },
     "metadata": {},
     "output_type": "display_data"
    }
   ],
   "source": [
    "y_pred_probs = model.predict(x_test)\n",
    "#print(y_pred_probs)\n",
    "y_pred = np.argmax(y_pred_probs, axis=1)\n",
    "conf_mat = confusion_matrix(y_test, y_pred)\n",
    "\n",
    "plt.figure(figsize=(8, 6))\n",
    "sns.heatmap(conf_mat, annot=True, fmt='d', cmap='Blues', xticklabels=['malade', 'non_malade'], yticklabels=['malade', 'non_malade'])\n",
    "plt.title('Confusion Matrix')\n",
    "plt.xlabel('Predicted')\n",
    "plt.ylabel('Actual')\n",
    "plt.show()"
   ]
  },
  {
   "cell_type": "markdown",
   "metadata": {},
   "source": [
    "Enregistrement des mauvaises prédictions dans un fichier CSV qui nous permet de voir qui est mal cassé et avec quel stimuli"
   ]
  },
  {
   "cell_type": "code",
   "execution_count": 7,
   "metadata": {},
   "outputs": [
    {
     "name": "stdout",
     "output_type": "stream",
     "text": [
      "c'est save :D mal_class_glides_bandes.csv\n",
      "                                                    0           1           2\n",
      "0   SCA_F_AB30_2020_11_26_ModuleTransitions_wi4.tx...      malade  non_malade\n",
      "1   SCA_H_AB25_2020_11_13_ModuleTransitions_aj3.tx...      malade  non_malade\n",
      "2   SCA_H_AB25_2020_11_13_ModuleTransitions_aj4.tx...      malade  non_malade\n",
      "3   SCA_H_AB36_2020_02_04_ModuleTransitions_aj4.tx...      malade  non_malade\n",
      "4   SCA_H_AB36_2020_02_04_ModuleTransitions_wi3.tx...      malade  non_malade\n",
      "5   SCA_H_AB37_2020_02_11_ModuleTransitions_wi3.tx...      malade  non_malade\n",
      "6   SNC_F_AB1_2019_11_07_ModuleTransitions_uj1.txt...  non_malade      malade\n",
      "7   SNC_F_AB1_2019_11_07_ModuleTransitions_wi1.txt...  non_malade      malade\n",
      "8   SNC_F_EC16_2019_12_13_ModuleTransitions_uj1.tx...  non_malade      malade\n",
      "9   SNC_F_SC3_2019_11_07_ModuleTransitions_uj1.txt...  non_malade      malade\n",
      "10  SNC_F_SC3_2019_11_07_ModuleTransitions_uj2.txt...  non_malade      malade\n",
      "11  SNC_F_SC3_2019_11_07_ModuleTransitions_uj4.txt...  non_malade      malade\n",
      "12  SNC_F_SC3_2019_11_07_ModuleTransitions_wi4.txt...  non_malade      malade\n",
      "13  SNC_F_SC5_2019_11_14_ModuleTransitions_uj2.txt...  non_malade      malade\n",
      "14  SNC_F_SC5_2019_11_14_ModuleTransitions_uj4.txt...  non_malade      malade\n",
      "15  SNC_H_AB3_2019_11_20_ModuleTransitions_uj3.txt...  non_malade      malade\n",
      "16  SNC_H_AB3_2019_11_20_ModuleTransitions_uj4.txt...  non_malade      malade\n",
      "17  SNC_H_AB3_2019_11_20_ModuleTransitions_wi2.txt...  non_malade      malade\n",
      "18  SNC_H_AB3_2019_11_20_ModuleTransitions_wi3.txt...  non_malade      malade\n",
      "19  SNC_H_AB7_2020_03_03_ModuleTransitions_wi1.txt...  non_malade      malade\n",
      "20  SNC_H_AB7_2020_03_03_ModuleTransitions_wi3.txt...  non_malade      malade\n",
      "21  SNC_H_AB7_2020_03_03_ModuleTransitions_wi4.txt...  non_malade      malade\n",
      "22  SNC_H_ND4_2020_01_31_ModuleTransitions_uj4.txt...  non_malade      malade\n",
      "23  SNC_H_ND4_2020_01_31_ModuleTransitions_wi2.txt...  non_malade      malade\n"
     ]
    }
   ],
   "source": [
    "\n",
    "misclassified_data = []\n",
    "\n",
    "for i in range(len(y_test)):\n",
    "    if y_test[i] != y_pred[i]:\n",
    "        actual_class = 'malade' if y_test[i] == 0 else 'non_malade'\n",
    "        predicted_class = 'malade' if y_pred[i] == 0 else 'non_malade'\n",
    "        image_name = os.path.basename(list_malade[i]) if i < len(list_malade) else os.path.basename(list_ok[i - len(list_malade)])\n",
    "        \n",
    "        misclassified_data.append([image_name, actual_class, predicted_class])\n",
    "\n",
    "csv_file_path = 'mal_class_glides_bandes.csv'\n",
    "header = ['Image Name', 'Actual Class', 'Predicted Class']\n",
    "\n",
    "with open(csv_file_path, mode='w', newline='') as file:\n",
    "    writer = csv.writer(file)\n",
    "    writer.writerow(header)\n",
    "    writer.writerows(misclassified_data)\n",
    "\n",
    "print(f\"c'est save :D {csv_file_path}\")\n",
    "import pandas as pd\n",
    "res=pd.DataFrame(misclassified_data)\n",
    "print(res)"
   ]
  },
  {
   "cell_type": "markdown",
   "metadata": {},
   "source": [
    "Ce qui est intéressant ici c'est qu'ici il classe mal les personnes peu atteinte, elles ont un score très bas dans les métadonnées ( Le locuteur AB30 et AB25 )\n",
    "Pour les locuteurs non atteints il est interessant de voir que ce sont souvent les mêmes stimulis qui sont mal classés , uj et wi. Ces deux stimulis sont compliqués à prononcer et son sujet à une grande variation, cela pourrait brouiller le modèle et se voir dans les images."
   ]
  },
  {
   "cell_type": "markdown",
   "metadata": {},
   "source": [
    "Les métadonnées sont présentes sur le git ainsi que les graphiques montrant la répartition des locuteurs mal classés. On remarquera que ce sont les personnes peu sévères , avec le stimulis uj et wi posant le plus problème pour les deux groupes à classer."
   ]
  }
 ],
 "metadata": {
  "kernelspec": {
   "display_name": "Python 3",
   "language": "python",
   "name": "python3"
  },
  "language_info": {
   "codemirror_mode": {
    "name": "ipython",
    "version": 3
   },
   "file_extension": ".py",
   "mimetype": "text/x-python",
   "name": "python",
   "nbconvert_exporter": "python",
   "pygments_lexer": "ipython3",
   "version": "3.10.11"
  }
 },
 "nbformat": 4,
 "nbformat_minor": 2
}
