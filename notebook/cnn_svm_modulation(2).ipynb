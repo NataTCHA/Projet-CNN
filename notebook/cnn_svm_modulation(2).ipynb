{
  "cells": [
    {
      "cell_type": "markdown",
      "metadata": {
        "id": "bW-LJ1RR_I8P"
      },
      "source": [
        "Importation des bibliothèques"
      ]
    },
    {
      "cell_type": "code",
      "execution_count": 1,
      "metadata": {
        "id": "xtfQ8ADm67Sz"
      },
      "outputs": [],
      "source": [
        "import os\n",
        "import glob\n",
        "import cv2\n",
        "import numpy as np\n",
        "from sklearn.model_selection import train_test_split\n",
        "from sklearn.svm import SVC\n",
        "from sklearn.metrics import confusion_matrix, accuracy_score\n",
        "import matplotlib.pyplot as plt\n",
        "import seaborn as sns\n",
        "import pandas as pd\n",
        "import csv\n",
        "from sklearn import preprocessing\n",
        "from sklearn.metrics import precision_score\n"
      ]
    },
    {
      "cell_type": "markdown",
      "metadata": {
        "id": "WbxtnK8G_SDT"
      },
      "source": [
        "Importation du corpus train et test pour la classe malade et sain"
      ]
    },
    {
      "cell_type": "code",
      "execution_count": 5,
      "metadata": {
        "id": "M0Etirz8FL5Q"
      },
      "outputs": [],
      "source": [
        "def load_and_preprocess_data(folder_path, label, img_rows=28, img_cols=28):\n",
        "    images = []\n",
        "    labels = []\n",
        "\n",
        "    for filename in folder_path:\n",
        "\n",
        "        img = cv2.imread(filename, 0).astype(np.uint8)\n",
        "        img = cv2.resize(img, (img_rows, img_cols))\n",
        "        images.append(img.flatten())\n",
        "        labels.append(label)\n",
        "\n",
        "    return images, labels\n",
        "list_malade = glob.glob('malade_mfcc_glides/test/*')\n",
        "list_ok = glob.glob('sain_mfcc_glides/test/*')\n",
        "list_malade_train = glob.glob('malade_mfcc_glides/train/*')\n",
        "list_ok_train = glob.glob('sain_mfcc_glides/train/*')\n",
        "\n",
        "\n",
        "# 'malade' train\n",
        "malade_train_images, malade_train_labels = load_and_preprocess_data(list_malade_train, label=0)\n",
        "\n",
        "# 'non_malade' train\n",
        "non_malade_train_images, non_malade_train_labels = load_and_preprocess_data(list_ok_train, label=1)\n",
        "\n",
        "# 'malade' test\n",
        "malade_test_images, malade_test_labels = load_and_preprocess_data(list_malade, label=0)\n",
        "\n",
        "# 'non_malade' test\n",
        "non_malade_test_images, non_malade_test_labels = load_and_preprocess_data(list_ok, label=1)\n",
        "\n",
        "\n",
        "x_train = np.concatenate([malade_train_images, non_malade_train_images], axis=0)\n",
        "y_train = np.concatenate([malade_train_labels, non_malade_train_labels], axis=0)\n",
        "\n",
        "x_test = np.concatenate([malade_test_images, non_malade_test_images], axis=0)\n",
        "y_test = np.concatenate([malade_test_labels, non_malade_test_labels], axis=0)\n",
        "\n",
        "scaler = preprocessing.StandardScaler().fit(x_train)\n",
        "x_train_scaled = scaler.transform(x_train)\n",
        "x_test_scaled = scaler.transform(x_test)\n"
      ]
    },
    {
      "cell_type": "markdown",
      "metadata": {
        "id": "OHozchui-pPc"
      },
      "source": [
        "Créer et entraîner le modèle SVM et visualiser la matrice de confusion. Dans cette approche, nous avons sélectionné les paramètres par défaut, en utilisant un noyau radial (RBF) avec une régularisation C=1 et une fonction de noyau gaussienne. Nous avons tout de même modifié la régularisation à 10 mais cela a fait chuter le modèle au vu du nombre de données assez faible. Le choix de gamma est une option pratique lorsque nous ne souhaitons pas spécifier manuellement la valeur de gamma, mais que nous préférons que le modèle l'ajuste automatiquement en fonction du nombre de caractéristiques de nos données."
      ]
    },
    {
      "cell_type": "code",
      "execution_count": 15,
      "metadata": {
        "colab": {
          "base_uri": "https://localhost:8080/",
          "height": 581
        },
        "id": "9OzfY_6_-Znk",
        "outputId": "226047db-6947-4dd5-a740-7e5ebece931e"
      },
      "outputs": [
        {
          "data": {
            "image/png": "[encoded data removed]",
            "text/plain": [
              "<Figure size 800x600 with 2 Axes>"
            ]
          },
          "metadata": {},
          "output_type": "display_data"
        },
        {
          "name": "stdout",
          "output_type": "stream",
          "text": [
            "Precision: 0.8022\n"
          ]
        }
      ],
      "source": [
        "svm_model = SVC(kernel='rbf', C=1, gamma='scale') \n",
        "svm_model.fit(x_train_scaled, y_train)\n",
        "\n",
        "# Prédictions\n",
        "y_pred_svm = svm_model.predict(x_test_scaled)\n",
        "\n",
        "# Matrice de confusion\n",
        "conf_mat_svm = confusion_matrix(y_test, y_pred_svm)\n",
        "\n",
        "# Visualiser\n",
        "plt.figure(figsize=(8, 6))\n",
        "sns.heatmap(conf_mat_svm, annot=True, fmt='d', cmap='Blues', xticklabels=['malade', 'non_malade'], yticklabels=['malade', 'non_malade'])\n",
        "plt.title('Matrice de confusion SVM')\n",
        "plt.xlabel('Prédit')\n",
        "plt.ylabel('Réel')\n",
        "plt.show()\n",
        "\n",
        "# Calculer precision\n",
        "precision = precision_score(y_test, y_pred_svm)\n",
        "print(f'Precision: {precision:.4f}')"
      ]
    },
    {
      "cell_type": "markdown",
      "metadata": {
        "id": "FoAetJVc-4eg"
      },
      "source": [
        "les données mal classées"
      ]
    },
    {
      "cell_type": "code",
      "execution_count": 17,
      "metadata": {
        "colab": {
          "base_uri": "https://localhost:8080/"
        },
        "id": "DpnSCh4b-8U6",
        "outputId": "351e866b-7fac-4ef9-dcde-1683b36fb556"
      },
      "outputs": [
        {
          "name": "stdout",
          "output_type": "stream",
          "text": [
            "Données mal classées sauvegardées dans le fichier CSV : misclassified_data_svm.csv\n",
            "                                                    0           1           2\n",
            "0   SCA_F_AB03_2017_01_02_ModuleTransitions_aj1.tx...      malade  non_malade\n",
            "1   SCA_F_AB03_2017_01_02_ModuleTransitions_wi4.tx...      malade  non_malade\n",
            "2   SCA_F_AB08_2020_10_26_ModuleTransitions_wi4.tx...      malade  non_malade\n",
            "3   SCA_F_AB10_2020_10_28_ModuleTransitions_aj2.tx...      malade  non_malade\n",
            "4   SCA_F_AB10_2020_10_28_ModuleTransitions_aj3.tx...      malade  non_malade\n",
            "5   SCA_F_AB10_2020_10_28_ModuleTransitions_uj2.tx...      malade  non_malade\n",
            "6   SCA_F_AB10_2020_10_28_ModuleTransitions_wi4.tx...      malade  non_malade\n",
            "7   SCA_F_AB20_2020_11_11_ModuleTransitions_aj4.tx...      malade  non_malade\n",
            "8   SCA_F_AB20_2020_11_11_ModuleTransitions_uj1.tx...      malade  non_malade\n",
            "9   SCA_F_AB20_2020_11_11_ModuleTransitions_uj2.tx...      malade  non_malade\n",
            "10  SCA_F_AB21_2020_11_12_ModuleTransitions_uj4.tx...      malade  non_malade\n",
            "11  SCA_F_AB22_2020_11_12_ModuleTransitions_aj1.tx...      malade  non_malade\n",
            "12  SCA_F_AB22_2020_11_12_ModuleTransitions_aj4.tx...      malade  non_malade\n",
            "13  SCA_F_AB22_2020_11_12_ModuleTransitions_uj1.tx...      malade  non_malade\n",
            "14  SCA_F_AB22_2020_11_12_ModuleTransitions_wi2.tx...      malade  non_malade\n",
            "15  SCA_F_AB23_2020_11_12_ModuleTransitions_aj3.tx...      malade  non_malade\n",
            "16  SCA_F_AB23_2020_11_12_ModuleTransitions_uj1.tx...      malade  non_malade\n",
            "17  SCA_F_AB23_2020_11_12_ModuleTransitions_uj2.tx...      malade  non_malade\n",
            "18  SNC_F_VJ_009_2019_06_24_ModuleTransitions_uj3....  non_malade      malade\n",
            "19  SNC_F_VJ_009_2019_06_24_ModuleTransitions_wi1....  non_malade      malade\n",
            "20  SNC_F_VJ_009_2019_06_24_ModuleTransitions_wi2....  non_malade      malade\n",
            "21  SNC_H_EC2_2019_11_03_ModuleTransitions_aj1.txt...  non_malade      malade\n",
            "22  SNC_H_EC2_2019_11_03_ModuleTransitions_aj2.txt...  non_malade      malade\n",
            "23  SNC_H_EC2_2019_11_03_ModuleTransitions_aj3.txt...  non_malade      malade\n",
            "24  SNC_H_EC2_2019_11_03_ModuleTransitions_aj4.txt...  non_malade      malade\n",
            "25  SNC_H_EC7_2019_11_06_ModuleTransitions_aj1.txt...  non_malade      malade\n",
            "26  SNC_H_EC7_2019_11_06_ModuleTransitions_aj3.txt...  non_malade      malade\n",
            "27  SNC_H_EC9_2019_11_14_ModuleTransitions_wi1.txt...  non_malade      malade\n",
            "28  SNC_H_EC9_2019_11_14_ModuleTransitions_wi3.txt...  non_malade      malade\n"
          ]
        }
      ],
      "source": [
        "malade_image_names = [os.path.basename(filename) for filename in list_malade_train]\n",
        "non_malade_image_names = [os.path.basename(filename) for filename in list_ok_train]\n",
        "\n",
        "# Sauvegarder les données mal classées dans un fichier CSV\n",
        "misclassified_data_svm = []\n",
        "for i in range(len(y_test)):\n",
        "    if y_test[i] != y_pred_svm[i]:\n",
        "        actual_class = 'malade' if y_test[i] == 0 else 'non_malade'\n",
        "        predicted_class = 'malade' if y_pred_svm[i] == 0 else 'non_malade'\n",
        "        image_name = malade_image_names[i] if y_test[i] == 0 else non_malade_image_names[i - len(malade_image_names)]\n",
        "        misclassified_data_svm.append([image_name, actual_class, predicted_class])\n",
        "\n",
        "csv_file_path_svm = 'misclassified_data_svm.csv'\n",
        "header_svm = ['Nom de l\\'image', 'Classe Réelle', 'Classe Prédite']\n",
        "\n",
        "with open(csv_file_path_svm, mode='w', newline='') as file:\n",
        "    writer = csv.writer(file)\n",
        "    writer.writerow(header_svm)\n",
        "    writer.writerows(misclassified_data_svm)\n",
        "\n",
        "print(f\"Données mal classées sauvegardées dans le fichier CSV : {csv_file_path_svm}\")\n",
        "\n",
        "# Afficher les données mal classées\n",
        "res_svm = pd.DataFrame(misclassified_data_svm)\n",
        "print(res_svm)"
      ]
    },
    {
      "cell_type": "markdown",
      "metadata": {},
      "source": [
        "Nous pouvons voir que le modèle a plus de mal à classer les malades dans la bonne classe. Contrairement au CNN il se trompe sur d'autres types de locuteurs, majoritairement des locuteurs atteints moyennement. C'est intéressant car cela veut dire qu'il s'en sort mieux pour les peu atteints. Même si globalement nous perdons quelques pourcentages de performances par rapport au CNN.\n",
        "\n",
        "De plus, Monsieur Audibert a souligné la possibilité que le SVM présente une faible sensibilité à l'ordre des pixels dans l'image. Nous avons donc regarder si le SVM dans ce cas présent était insensible ou non. Ses performances ont chuté encore plus que le CNN qui lui s'est montré robuste lorsque nous effections le même prétraitement ( une perte de 10 \\% pour le CNN contre 20\\% pour le SVM). Donc nous avons preservé les données initiales et les avons traité de la même manière pour les deux types de modèles c'est à dire sans mélanger les pixels de l'image dès le prétraitement dans les vecteurs."
      ]
    }
  ],
  "metadata": {
    "colab": {
      "provenance": []
    },
    "kernelspec": {
      "display_name": "Python 3",
      "name": "python3"
    },
    "language_info": {
      "codemirror_mode": {
        "name": "ipython",
        "version": 3
      },
      "file_extension": ".py",
      "mimetype": "text/x-python",
      "name": "python",
      "nbconvert_exporter": "python",
      "pygments_lexer": "ipython3",
      "version": "3.10.11"
    }
  },
  "nbformat": 4,
  "nbformat_minor": 0
}
