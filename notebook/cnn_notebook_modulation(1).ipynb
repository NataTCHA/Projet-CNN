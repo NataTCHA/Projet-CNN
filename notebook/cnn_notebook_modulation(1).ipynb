{
 "cells": [
  {
   "cell_type": "markdown",
   "metadata": {},
   "source": [
    "**CNN avec bande modulation cepstrale sur corpus glides**"
   ]
  },
  {
   "cell_type": "markdown",
   "metadata": {},
   "source": [
    "Importation des bibliothèques"
   ]
  },
  {
   "cell_type": "code",
   "execution_count": 1,
   "metadata": {},
   "outputs": [
    {
     "name": "stdout",
     "output_type": "stream",
     "text": [
      "WARNING:tensorflow:From C:\\Users\\Natou\\AppData\\Local\\Packages\\PythonSoftwareFoundation.Python.3.10_qbz5n2kfra8p0\\LocalCache\\local-packages\\Python310\\site-packages\\keras\\src\\losses.py:2976: The name tf.losses.sparse_softmax_cross_entropy is deprecated. Please use tf.compat.v1.losses.sparse_softmax_cross_entropy instead.\n",
      "\n"
     ]
    }
   ],
   "source": [
    "import os\n",
    "import cv2\n",
    "import numpy as np\n",
    "from sklearn.model_selection import train_test_split\n",
    "from tensorflow.keras import Sequential\n",
    "from tensorflow.keras.layers import Conv2D, MaxPooling2D, Flatten, Dense, Dropout\n",
    "from tensorflow.keras.callbacks import EarlyStopping, LearningRateScheduler\n",
    "from tensorflow.keras.optimizers import Adam\n",
    "from tensorflow.keras.layers import BatchNormalization\n",
    "from keras.layers import ZeroPadding2D, Conv2D\n",
    "from sklearn.metrics import confusion_matrix\n",
    "import matplotlib.pyplot as plt\n",
    "import seaborn as sns\n",
    "import random\n",
    "import numpy as np\n",
    "import glob\n",
    "import csv\n",
    "from sklearn.metrics import confusion_matrix"
   ]
  },
  {
   "cell_type": "markdown",
   "metadata": {},
   "source": [
    "Importation du corpus train et test pour la classe malade et sain a été réalisation en deux groupes pour chacun , malade et non malade. \n",
    "Le choix de la taille des images a été fait empiriquement, au départ nous voulions faire 1*28 car l'image d'entrée est une bande, neanmoins les performances du modèle baissées drastiquement. De plus cette importation en bande nous laissait peu de marge de manoeuvre pour le choix des kernels , alors, nous avons opté pour un format carré."
   ]
  },
  {
   "cell_type": "code",
   "execution_count": 2,
   "metadata": {},
   "outputs": [],
   "source": [
    "list_malade = glob.glob('malade_mfcc_glides/test/*')\n",
    "list_ok = glob.glob('sain_mfcc_glides/test/*')\n",
    "img_rows=28\n",
    "img_cols=28\n",
    "x_test = []  \n",
    "y_test = []\n",
    "\n",
    "dico = {'malade': 0, 'non_malade': 1}\n",
    "#test\n",
    "for path in list_malade:\n",
    "    x=cv2.imread(path,0).astype(np.uint8)\n",
    "    x=cv2.resize(x,(img_rows,img_cols))\n",
    "    y = dico['malade']\n",
    "    x_test.append(x)\n",
    "    y_test.append(y)\n",
    "\n",
    "for path in list_ok:\n",
    "    x=cv2.imread(path,0).astype(np.uint8)\n",
    "    x=cv2.resize(x,(img_rows,img_cols))\n",
    "    y = dico['non_malade']\n",
    "    x_test.append(x)\n",
    "    y_test.append(y)\n",
    "\n",
    "\n",
    "#train\n",
    "\n",
    "list_malade_train = glob.glob('malade_mfcc_glides/train/*')\n",
    "list_ok_train = glob.glob('sain_mfcc_glides/train/*')\n",
    "\n",
    "x_train = []\n",
    "y_train = []\n",
    "\n",
    "\n",
    "for path in list_malade_train:\n",
    "    x = cv2.imread(path, 0).astype(np.uint8)\n",
    "    x = cv2.resize(x, (img_rows, img_cols))\n",
    "    y = dico['malade']\n",
    "    x_train.append(x)\n",
    "    y_train.append(y)\n",
    "\n",
    "for path in list_ok_train:\n",
    "    x = cv2.imread(path, 0).astype(np.uint8)\n",
    "    x = cv2.resize(x, (img_rows, img_cols))\n",
    "    y = dico['non_malade']\n",
    "    x_train.append(x)\n",
    "    y_train.append(y)\n",
    "\n",
    "x_train = np.array(x_train)\n",
    "y_train = np.array(y_train)\n",
    "x_test = np.array(x_test)\n",
    "y_test = np.array(y_test)\n",
    "x_train = x_train.reshape(-1, img_rows, img_cols, 1)\n",
    "x_test = x_test.reshape(-1, img_rows, img_cols, 1)\n",
    "x_train = x_train.astype('float32') / 255\n",
    "x_test = x_test.astype('float32') / 255"
   ]
  },
  {
   "cell_type": "markdown",
   "metadata": {},
   "source": [
    "Définition de la fonction sheduler permettant de faire évoluer le taux d'apprentissage en fonction du nombre d'epoch"
   ]
  },
  {
   "cell_type": "code",
   "execution_count": 3,
   "metadata": {},
   "outputs": [],
   "source": [
    "def lr_schedule(epoch):\n",
    "    lr = 1e-4\n",
    "    if epoch > 30:\n",
    "        lr *= 0.1\n",
    "    elif epoch > 20:\n",
    "        lr *= 0.5\n",
    "    return lr"
   ]
  },
  {
   "cell_type": "markdown",
   "metadata": {},
   "source": [
    "Lors de l'initialisation du modèle nous avons opté pour une couche de normalisation sous la plupart des couches denses, cela a permis d'améliorer les performances du programme. Le choix de la fonction d'activation sigmoid s'est fait car c'est une tâche de classification en 2 classes. L'activation relu a été utilisée car c'est celle qui a le mieux fonctionné. La fonction tanh fonctionnait aussi plutôt bien mais, nous avions des pertes de légère perte de performances."
   ]
  },
  {
   "cell_type": "code",
   "execution_count": 4,
   "metadata": {},
   "outputs": [
    {
     "name": "stdout",
     "output_type": "stream",
     "text": [
      "WARNING:tensorflow:From C:\\Users\\Natou\\AppData\\Local\\Packages\\PythonSoftwareFoundation.Python.3.10_qbz5n2kfra8p0\\LocalCache\\local-packages\\Python310\\site-packages\\keras\\src\\backend.py:873: The name tf.get_default_graph is deprecated. Please use tf.compat.v1.get_default_graph instead.\n",
      "\n",
      "WARNING:tensorflow:From C:\\Users\\Natou\\AppData\\Local\\Packages\\PythonSoftwareFoundation.Python.3.10_qbz5n2kfra8p0\\LocalCache\\local-packages\\Python310\\site-packages\\keras\\src\\layers\\normalization\\batch_normalization.py:979: The name tf.nn.fused_batch_norm is deprecated. Please use tf.compat.v1.nn.fused_batch_norm instead.\n",
      "\n",
      "Model: \"sequential\"\n",
      "_________________________________________________________________\n",
      " Layer (type)                Output Shape              Param #   \n",
      "=================================================================\n",
      " conv2d (Conv2D)             (None, 28, 28, 512)       2560      \n",
      "                                                                 \n",
      " batch_normalization (Batch  (None, 28, 28, 512)       2048      \n",
      " Normalization)                                                  \n",
      "                                                                 \n",
      " zero_padding2d (ZeroPaddin  (None, 28, 28, 512)       0         \n",
      " g2D)                                                            \n",
      "                                                                 \n",
      " max_pooling2d (MaxPooling2  (None, 14, 14, 512)       0         \n",
      " D)                                                              \n",
      "                                                                 \n",
      " conv2d_1 (Conv2D)           (None, 14, 14, 256)       524544    \n",
      "                                                                 \n",
      " batch_normalization_1 (Bat  (None, 14, 14, 256)       1024      \n",
      " chNormalization)                                                \n",
      "                                                                 \n",
      " max_pooling2d_1 (MaxPoolin  (None, 7, 7, 256)         0         \n",
      " g2D)                                                            \n",
      "                                                                 \n",
      " conv2d_2 (Conv2D)           (None, 7, 7, 128)         131200    \n",
      "                                                                 \n",
      " batch_normalization_2 (Bat  (None, 7, 7, 128)         512       \n",
      " chNormalization)                                                \n",
      "                                                                 \n",
      " max_pooling2d_2 (MaxPoolin  (None, 3, 3, 128)         0         \n",
      " g2D)                                                            \n",
      "                                                                 \n",
      " flatten (Flatten)           (None, 1152)              0         \n",
      "                                                                 \n",
      " dropout (Dropout)           (None, 1152)              0         \n",
      "                                                                 \n",
      " dense (Dense)               (None, 512)               590336    \n",
      "                                                                 \n",
      " batch_normalization_3 (Bat  (None, 512)               2048      \n",
      " chNormalization)                                                \n",
      "                                                                 \n",
      " dense_1 (Dense)             (None, 256)               131328    \n",
      "                                                                 \n",
      " batch_normalization_4 (Bat  (None, 256)               1024      \n",
      " chNormalization)                                                \n",
      "                                                                 \n",
      " dense_2 (Dense)             (None, 2)                 514       \n",
      "                                                                 \n",
      "=================================================================\n",
      "Total params: 1387138 (5.29 MB)\n",
      "Trainable params: 1383810 (5.28 MB)\n",
      "Non-trainable params: 3328 (13.00 KB)\n",
      "_________________________________________________________________\n"
     ]
    }
   ],
   "source": [
    "model = Sequential()\n",
    "model.add(Conv2D(512, kernel_size=(2, 2), activation='relu', input_shape=(img_rows, img_cols, 1), padding='same'))\n",
    "model.add(BatchNormalization())\n",
    "value_top = 0\n",
    "value_bottom = 0\n",
    "value_left = 0\n",
    "value_right = 0\n",
    "model.add(ZeroPadding2D(padding=((value_top, value_bottom), (value_left, value_right))))\n",
    "model.add(MaxPooling2D(pool_size=(2, 2)))\n",
    "model.add(Conv2D(256, (2, 2), activation='relu', padding='same'))\n",
    "model.add(BatchNormalization())\n",
    "model.add(MaxPooling2D(pool_size=(2, 2)))\n",
    "model.add(Conv2D(128, (2, 2), activation='relu', padding='same'))\n",
    "model.add(BatchNormalization())\n",
    "model.add(MaxPooling2D(pool_size=(2, 2)))\n",
    "model.add(Flatten())\n",
    "model.add(Dropout(0.5))\n",
    "model.add(Dense(512, activation='relu'))\n",
    "model.add(BatchNormalization())\n",
    "model.add(Dense(256, activation='relu'))\n",
    "model.add(BatchNormalization())\n",
    "model.add(Dense(2, activation='sigmoid'))\n",
    "model.summary()"
   ]
  },
  {
   "cell_type": "markdown",
   "metadata": {},
   "source": [
    "Lancement de l'entrainement et de l'évaluation. Nous avons choisi 25 batch pour que ça concorde avec notre nombre de donnée. Le choix de l'epoch s'est fait à l'aide de la visualitation du graphique du nombre d'epoch en fonction du taux d'apprentissage. De plus nous avons la fonction early stopping qui nous permet d'éviter le surapprentissage, lorsque le modèle cesse de s\"améliorer nous l'arrêtons."
   ]
  },
  {
   "cell_type": "code",
   "execution_count": 8,
   "metadata": {},
   "outputs": [
    {
     "name": "stdout",
     "output_type": "stream",
     "text": [
      "Epoch 1/70\n",
      "19/19 [==============================] - 2s 53ms/step - loss: 0.2072 - accuracy: 0.9091 - val_loss: 1.5992 - val_accuracy: 0.4118 - lr: 1.0000e-04\n",
      "Epoch 2/70\n",
      "19/19 [==============================] - 1s 43ms/step - loss: 0.1901 - accuracy: 0.9302 - val_loss: 1.5013 - val_accuracy: 0.4538 - lr: 1.0000e-04\n",
      "Epoch 3/70\n",
      "19/19 [==============================] - 1s 43ms/step - loss: 0.2179 - accuracy: 0.9091 - val_loss: 1.2053 - val_accuracy: 0.5462 - lr: 1.0000e-04\n",
      "Epoch 4/70\n",
      "19/19 [==============================] - 1s 45ms/step - loss: 0.2175 - accuracy: 0.9133 - val_loss: 0.6955 - val_accuracy: 0.7395 - lr: 1.0000e-04\n",
      "Epoch 5/70\n",
      "19/19 [==============================] - 1s 43ms/step - loss: 0.1749 - accuracy: 0.9281 - val_loss: 1.1732 - val_accuracy: 0.6050 - lr: 1.0000e-04\n",
      "Epoch 6/70\n",
      "19/19 [==============================] - 1s 43ms/step - loss: 0.1826 - accuracy: 0.9302 - val_loss: 1.5486 - val_accuracy: 0.4538 - lr: 1.0000e-04\n",
      "Epoch 7/70\n",
      "19/19 [==============================] - 1s 59ms/step - loss: 0.1923 - accuracy: 0.9281 - val_loss: 1.1414 - val_accuracy: 0.6050 - lr: 1.0000e-04\n",
      "Epoch 8/70\n",
      "19/19 [==============================] - 3s 140ms/step - loss: 0.1479 - accuracy: 0.9535 - val_loss: 1.0799 - val_accuracy: 0.5966 - lr: 1.0000e-04\n",
      "Epoch 9/70\n",
      "19/19 [==============================] - 1s 44ms/step - loss: 0.1719 - accuracy: 0.9345 - val_loss: 0.8920 - val_accuracy: 0.6387 - lr: 1.0000e-04\n",
      "Epoch 10/70\n",
      "19/19 [==============================] - 1s 43ms/step - loss: 0.1550 - accuracy: 0.9366 - val_loss: 1.0565 - val_accuracy: 0.6134 - lr: 1.0000e-04\n",
      "Epoch 11/70\n",
      "19/19 [==============================] - 1s 43ms/step - loss: 0.1544 - accuracy: 0.9429 - val_loss: 1.3625 - val_accuracy: 0.5294 - lr: 1.0000e-04\n",
      "Epoch 12/70\n",
      "19/19 [==============================] - 1s 42ms/step - loss: 0.1364 - accuracy: 0.9429 - val_loss: 1.1146 - val_accuracy: 0.6050 - lr: 1.0000e-04\n",
      "Epoch 13/70\n",
      "19/19 [==============================] - 1s 42ms/step - loss: 0.1496 - accuracy: 0.9323 - val_loss: 1.2282 - val_accuracy: 0.5630 - lr: 1.0000e-04\n",
      "Epoch 14/70\n",
      "19/19 [==============================] - 1s 42ms/step - loss: 0.1870 - accuracy: 0.9218 - val_loss: 1.6182 - val_accuracy: 0.5042 - lr: 1.0000e-04\n",
      "Epoch 15/70\n",
      "19/19 [==============================] - 1s 43ms/step - loss: 0.1532 - accuracy: 0.9387 - val_loss: 1.4891 - val_accuracy: 0.5294 - lr: 1.0000e-04\n",
      "Epoch 16/70\n",
      "19/19 [==============================] - 1s 44ms/step - loss: 0.1320 - accuracy: 0.9493 - val_loss: 1.9177 - val_accuracy: 0.4454 - lr: 1.0000e-04\n",
      "Epoch 17/70\n",
      "19/19 [==============================] - 1s 44ms/step - loss: 0.1309 - accuracy: 0.9535 - val_loss: 1.6473 - val_accuracy: 0.5042 - lr: 1.0000e-04\n",
      "Epoch 18/70\n",
      "19/19 [==============================] - 1s 44ms/step - loss: 0.1432 - accuracy: 0.9408 - val_loss: 1.3611 - val_accuracy: 0.5714 - lr: 1.0000e-04\n",
      "Epoch 19/70\n",
      "19/19 [==============================] - 1s 44ms/step - loss: 0.1260 - accuracy: 0.9535 - val_loss: 1.5633 - val_accuracy: 0.5378 - lr: 1.0000e-04\n",
      "Epoch 20/70\n",
      "19/19 [==============================] - 1s 44ms/step - loss: 0.1295 - accuracy: 0.9556 - val_loss: 1.5715 - val_accuracy: 0.5462 - lr: 1.0000e-04\n",
      "Epoch 21/70\n",
      "19/19 [==============================] - 1s 44ms/step - loss: 0.1131 - accuracy: 0.9471 - val_loss: 1.4424 - val_accuracy: 0.5210 - lr: 1.0000e-04\n",
      "Epoch 22/70\n",
      "19/19 [==============================] - 1s 43ms/step - loss: 0.1003 - accuracy: 0.9683 - val_loss: 1.1125 - val_accuracy: 0.6134 - lr: 5.0000e-05\n",
      "Epoch 23/70\n",
      "19/19 [==============================] - 1s 43ms/step - loss: 0.1133 - accuracy: 0.9556 - val_loss: 1.0765 - val_accuracy: 0.6555 - lr: 5.0000e-05\n",
      "Epoch 24/70\n",
      "19/19 [==============================] - 1s 46ms/step - loss: 0.0923 - accuracy: 0.9662 - val_loss: 1.2455 - val_accuracy: 0.5714 - lr: 5.0000e-05\n",
      "Epoch 25/70\n",
      "19/19 [==============================] - 1s 44ms/step - loss: 0.0871 - accuracy: 0.9704 - val_loss: 1.2125 - val_accuracy: 0.6218 - lr: 5.0000e-05\n",
      "Epoch 26/70\n",
      "19/19 [==============================] - 1s 43ms/step - loss: 0.1071 - accuracy: 0.9577 - val_loss: 1.3359 - val_accuracy: 0.5966 - lr: 5.0000e-05\n",
      "Epoch 27/70\n",
      "19/19 [==============================] - 1s 42ms/step - loss: 0.0913 - accuracy: 0.9598 - val_loss: 1.2398 - val_accuracy: 0.6303 - lr: 5.0000e-05\n",
      "Epoch 28/70\n",
      "19/19 [==============================] - 1s 42ms/step - loss: 0.0765 - accuracy: 0.9683 - val_loss: 1.6960 - val_accuracy: 0.5126 - lr: 5.0000e-05\n",
      "Epoch 29/70\n",
      "19/19 [==============================] - 1s 42ms/step - loss: 0.0734 - accuracy: 0.9746 - val_loss: 1.5013 - val_accuracy: 0.5630 - lr: 5.0000e-05\n",
      "Epoch 30/70\n",
      "19/19 [==============================] - 1s 43ms/step - loss: 0.0552 - accuracy: 0.9852 - val_loss: 1.6346 - val_accuracy: 0.5294 - lr: 5.0000e-05\n",
      "Epoch 31/70\n",
      "19/19 [==============================] - 1s 44ms/step - loss: 0.0557 - accuracy: 0.9831 - val_loss: 1.5666 - val_accuracy: 0.5546 - lr: 5.0000e-05\n",
      "Epoch 32/70\n",
      "19/19 [==============================] - 1s 44ms/step - loss: 0.0609 - accuracy: 0.9789 - val_loss: 1.6109 - val_accuracy: 0.5462 - lr: 1.0000e-05\n",
      "Epoch 33/70\n",
      "19/19 [==============================] - 1s 43ms/step - loss: 0.0848 - accuracy: 0.9704 - val_loss: 1.5195 - val_accuracy: 0.5630 - lr: 1.0000e-05\n",
      "Epoch 34/70\n",
      "19/19 [==============================] - 1s 44ms/step - loss: 0.0471 - accuracy: 0.9831 - val_loss: 1.4981 - val_accuracy: 0.5546 - lr: 1.0000e-05\n",
      "Epoch 35/70\n",
      "19/19 [==============================] - 1s 43ms/step - loss: 0.0645 - accuracy: 0.9789 - val_loss: 1.4505 - val_accuracy: 0.5462 - lr: 1.0000e-05\n",
      "Epoch 36/70\n",
      "19/19 [==============================] - 1s 42ms/step - loss: 0.0587 - accuracy: 0.9810 - val_loss: 1.4667 - val_accuracy: 0.5546 - lr: 1.0000e-05\n",
      "Epoch 37/70\n",
      "19/19 [==============================] - 1s 42ms/step - loss: 0.0481 - accuracy: 0.9852 - val_loss: 1.4412 - val_accuracy: 0.5630 - lr: 1.0000e-05\n",
      "Epoch 38/70\n",
      "19/19 [==============================] - 1s 42ms/step - loss: 0.0757 - accuracy: 0.9704 - val_loss: 1.4262 - val_accuracy: 0.5714 - lr: 1.0000e-05\n",
      "Epoch 39/70\n",
      "19/19 [==============================] - 1s 43ms/step - loss: 0.0594 - accuracy: 0.9789 - val_loss: 1.3957 - val_accuracy: 0.5798 - lr: 1.0000e-05\n",
      "Epoch 39: early stopping\n",
      "1/6 [====>.........................] - ETA: 0s - loss: 0.3347 - accuracy: 0.9062"
     ]
    },
    {
     "name": "stderr",
     "output_type": "stream",
     "text": [
      "C:\\Users\\Natou\\AppData\\Local\\Packages\\PythonSoftwareFoundation.Python.3.10_qbz5n2kfra8p0\\LocalCache\\local-packages\\Python310\\site-packages\\keras\\src\\engine\\training.py:3103: UserWarning: You are saving your model as an HDF5 file via `model.save()`. This file format is considered legacy. We recommend using instead the native Keras format, e.g. `model.save('my_model.keras')`.\n",
      "  saving_api.save_model(\n"
     ]
    },
    {
     "name": "stdout",
     "output_type": "stream",
     "text": [
      "6/6 [==============================] - 0s 19ms/step - loss: 0.2880 - accuracy: 0.9148\n",
      "Test loss: 0.28803563117980957\n",
      "Test accuracy: 0.9147727489471436\n"
     ]
    }
   ],
   "source": [
    "es = EarlyStopping(monitor='val_loss', mode='min', verbose=3, patience=35)\n",
    "lr_scheduler = LearningRateScheduler(lr_schedule)\n",
    "model.compile(loss='sparse_categorical_crossentropy', optimizer='adam', metrics=['accuracy'])\n",
    "model.fit(x_train, y_train, batch_size=25, epochs=70, verbose=1, validation_split=0.2, callbacks=[es, lr_scheduler])\n",
    "model.save('model.h5')\n",
    "score=model.evaluate(x_test, y_test, verbose=1)\n",
    "\n",
    "print('Test loss:', score[0])\n",
    "print('Test accuracy:', score[1])\n"
   ]
  },
  {
   "cell_type": "markdown",
   "metadata": {},
   "source": [
    "L'accuracy est à 91 % ici. Lorsque nous lançons à plusieurs reprise l'accuracy oscille entre 85 et 90.\n",
    "Passons au lancement de la prédiction sur le corpus test. Nous pouvons voir une matrice de confusion avec une diagonale bien lisible. Il a néanmoins plus de mal à classer les locuteurs de la classe non malade en raison de leur grand diversité. Les malades ont souvent le même pattern , un débit plus lent et une intensité similaire, c'est moins le cas dans le groupe non malade."
   ]
  },
  {
   "cell_type": "code",
   "execution_count": 9,
   "metadata": {},
   "outputs": [
    {
     "name": "stdout",
     "output_type": "stream",
     "text": [
      "6/6 [==============================] - 0s 19ms/step\n"
     ]
    },
    {
     "data": {
      "image/png": "[encoded data removed]",
      "text/plain": [
       "<Figure size 800x600 with 2 Axes>"
      ]
     },
     "metadata": {},
     "output_type": "display_data"
    }
   ],
   "source": [
    "y_pred_probs = model.predict(x_test)\n",
    "#print(y_pred_probs)\n",
    "y_pred = np.argmax(y_pred_probs, axis=1)\n",
    "conf_mat = confusion_matrix(y_test, y_pred)\n",
    "\n",
    "plt.figure(figsize=(8, 6))\n",
    "sns.heatmap(conf_mat, annot=True, fmt='d', cmap='Blues', xticklabels=['malade', 'non_malade'], yticklabels=['malade', 'non_malade'])\n",
    "plt.title('Confusion Matrix')\n",
    "plt.xlabel('Predicted')\n",
    "plt.ylabel('Actual')\n",
    "plt.show()"
   ]
  },
  {
   "cell_type": "markdown",
   "metadata": {},
   "source": [
    "Enregistrement des mauvaises prédictions dans un fichier CSV qui nous permet de voir qui est mal cassé et avec quel stimuli"
   ]
  },
  {
   "cell_type": "code",
   "execution_count": 10,
   "metadata": {},
   "outputs": [
    {
     "name": "stdout",
     "output_type": "stream",
     "text": [
      "c'est save :D mal_class_glides_bandes.csv\n",
      "                                                    0           1           2\n",
      "0   SCA_F_AB30_2020_11_26_ModuleTransitions_aj2.tx...      malade  non_malade\n",
      "1   SCA_F_AB30_2020_11_26_ModuleTransitions_uj4.tx...      malade  non_malade\n",
      "2   SCA_F_AB30_2020_11_26_ModuleTransitions_wi4.tx...      malade  non_malade\n",
      "3   SCA_H_AB36_2020_02_04_ModuleTransitions_aj4.tx...      malade  non_malade\n",
      "4   SNC_F_AB1_2019_11_07_ModuleTransitions_aj4.txt...  non_malade      malade\n",
      "5   SNC_F_SC3_2019_11_07_ModuleTransitions_uj1.txt...  non_malade      malade\n",
      "6   SNC_F_SC3_2019_11_07_ModuleTransitions_uj2.txt...  non_malade      malade\n",
      "7   SNC_F_SC3_2019_11_07_ModuleTransitions_uj4.txt...  non_malade      malade\n",
      "8   SNC_F_SC5_2019_11_14_ModuleTransitions_wi2.txt...  non_malade      malade\n",
      "9   SNC_H_AB3_2019_11_20_ModuleTransitions_uj3.txt...  non_malade      malade\n",
      "10  SNC_H_AB3_2019_11_20_ModuleTransitions_wi2.txt...  non_malade      malade\n",
      "11  SNC_H_AB7_2020_03_03_ModuleTransitions_wi1.txt...  non_malade      malade\n",
      "12  SNC_H_AB7_2020_03_03_ModuleTransitions_wi3.txt...  non_malade      malade\n",
      "13  SNC_H_ND4_2020_01_31_ModuleTransitions_uj3.txt...  non_malade      malade\n",
      "14  SNC_H_ND4_2020_01_31_ModuleTransitions_wi2.txt...  non_malade      malade\n"
     ]
    }
   ],
   "source": [
    "\n",
    "misclassified_data = []\n",
    "\n",
    "for i in range(len(y_test)):\n",
    "    if y_test[i] != y_pred[i]:\n",
    "        actual_class = 'malade' if y_test[i] == 0 else 'non_malade'\n",
    "        predicted_class = 'malade' if y_pred[i] == 0 else 'non_malade'\n",
    "        image_name = os.path.basename(list_malade[i]) if i < len(list_malade) else os.path.basename(list_ok[i - len(list_malade)])\n",
    "        \n",
    "        misclassified_data.append([image_name, actual_class, predicted_class])\n",
    "\n",
    "csv_file_path = 'mal_class_glides_bandes.csv'\n",
    "header = ['Image Name', 'Actual Class', 'Predicted Class']\n",
    "\n",
    "with open(csv_file_path, mode='w', newline='') as file:\n",
    "    writer = csv.writer(file)\n",
    "    writer.writerow(header)\n",
    "    writer.writerows(misclassified_data)\n",
    "\n",
    "print(f\"c'est save :D {csv_file_path}\")\n",
    "import pandas as pd\n",
    "res=pd.DataFrame(misclassified_data)\n",
    "print(res)"
   ]
  },
  {
   "cell_type": "markdown",
   "metadata": {},
   "source": [
    "Ce qui est intéressant ici c'est qu'ici il classe mal les personnes peu atteinte, elles ont un score très bas dans les métadonnées ( Le locuteur AB30 et AB25 )\n",
    "Pour les locuteurs non atteints il est interessant de voir que ce sont souvent les mêmes stimulis qui sont mal classés , uj et wi. Ces deux stimulis sont compliqués à prononcer et son sujet à une grande variation, cela pourrait brouiller le modèle et se voir dans les images."
   ]
  },
  {
   "cell_type": "markdown",
   "metadata": {},
   "source": [
    "Les métadonnées sont présentes sur le git ainsi que les graphiques montrant la répartition des locuteurs mal classés. On remarquera que ce sont les personnes peu sévères , avec le stimulis uj et wi posant le plus problème pour les deux groupes à classer."
   ]
  },
  {
   "cell_type": "markdown",
   "metadata": {},
   "source": [
    "Voici les test moins concluants avec softmax et tanh "
   ]
  },
  {
   "cell_type": "code",
   "execution_count": 5,
   "metadata": {},
   "outputs": [
    {
     "name": "stdout",
     "output_type": "stream",
     "text": [
      "Model: \"sequential_1\"\n",
      "_________________________________________________________________\n",
      " Layer (type)                Output Shape              Param #   \n",
      "=================================================================\n",
      " conv2d_3 (Conv2D)           (None, 28, 28, 512)       2560      \n",
      "                                                                 \n",
      " batch_normalization_5 (Bat  (None, 28, 28, 512)       2048      \n",
      " chNormalization)                                                \n",
      "                                                                 \n",
      " zero_padding2d_1 (ZeroPadd  (None, 28, 28, 512)       0         \n",
      " ing2D)                                                          \n",
      "                                                                 \n",
      " max_pooling2d_3 (MaxPoolin  (None, 14, 14, 512)       0         \n",
      " g2D)                                                            \n",
      "                                                                 \n",
      " conv2d_4 (Conv2D)           (None, 14, 14, 256)       524544    \n",
      "                                                                 \n",
      " batch_normalization_6 (Bat  (None, 14, 14, 256)       1024      \n",
      " chNormalization)                                                \n",
      "                                                                 \n",
      " max_pooling2d_4 (MaxPoolin  (None, 7, 7, 256)         0         \n",
      " g2D)                                                            \n",
      "                                                                 \n",
      " conv2d_5 (Conv2D)           (None, 7, 7, 128)         131200    \n",
      "                                                                 \n",
      " batch_normalization_7 (Bat  (None, 7, 7, 128)         512       \n",
      " chNormalization)                                                \n",
      "                                                                 \n",
      " max_pooling2d_5 (MaxPoolin  (None, 3, 3, 128)         0         \n",
      " g2D)                                                            \n",
      "                                                                 \n",
      " flatten_1 (Flatten)         (None, 1152)              0         \n",
      "                                                                 \n",
      " dropout_1 (Dropout)         (None, 1152)              0         \n",
      "                                                                 \n",
      " dense_3 (Dense)             (None, 512)               590336    \n",
      "                                                                 \n",
      " batch_normalization_8 (Bat  (None, 512)               2048      \n",
      " chNormalization)                                                \n",
      "                                                                 \n",
      " dense_4 (Dense)             (None, 256)               131328    \n",
      "                                                                 \n",
      " batch_normalization_9 (Bat  (None, 256)               1024      \n",
      " chNormalization)                                                \n",
      "                                                                 \n",
      " dense_5 (Dense)             (None, 2)                 514       \n",
      "                                                                 \n",
      "=================================================================\n",
      "Total params: 1387138 (5.29 MB)\n",
      "Trainable params: 1383810 (5.28 MB)\n",
      "Non-trainable params: 3328 (13.00 KB)\n",
      "_________________________________________________________________\n"
     ]
    }
   ],
   "source": [
    "model = Sequential()\n",
    "model.add(Conv2D(512, kernel_size=(2, 2), activation='tanh', input_shape=(img_rows, img_cols, 1), padding='same'))\n",
    "model.add(BatchNormalization())\n",
    "value_top = 0\n",
    "value_bottom = 0\n",
    "value_left = 0\n",
    "value_right = 0\n",
    "model.add(ZeroPadding2D(padding=((value_top, value_bottom), (value_left, value_right))))\n",
    "model.add(MaxPooling2D(pool_size=(2, 2)))\n",
    "model.add(Conv2D(256, (2, 2), activation='tanh', padding='same'))\n",
    "model.add(BatchNormalization())\n",
    "model.add(MaxPooling2D(pool_size=(2, 2)))\n",
    "model.add(Conv2D(128, (2, 2), activation='tanh', padding='same'))\n",
    "model.add(BatchNormalization())\n",
    "model.add(MaxPooling2D(pool_size=(2, 2)))\n",
    "model.add(Flatten())\n",
    "model.add(Dropout(0.5))\n",
    "model.add(Dense(512, activation='tanh'))\n",
    "model.add(BatchNormalization())\n",
    "model.add(Dense(256, activation='tanh'))\n",
    "model.add(BatchNormalization())\n",
    "model.add(Dense(2, activation='softmax'))\n",
    "model.summary()"
   ]
  },
  {
   "cell_type": "code",
   "execution_count": 8,
   "metadata": {},
   "outputs": [
    {
     "name": "stdout",
     "output_type": "stream",
     "text": [
      "Epoch 1/70\n",
      "19/19 [==============================] - 2s 55ms/step - loss: 0.2535 - accuracy: 0.9006 - val_loss: 2.6692 - val_accuracy: 0.2941 - lr: 1.0000e-04\n",
      "Epoch 2/70\n",
      "19/19 [==============================] - 1s 44ms/step - loss: 0.3057 - accuracy: 0.8562 - val_loss: 2.0060 - val_accuracy: 0.3866 - lr: 1.0000e-04\n",
      "Epoch 3/70\n",
      "19/19 [==============================] - 1s 44ms/step - loss: 0.2684 - accuracy: 0.8774 - val_loss: 1.5390 - val_accuracy: 0.5042 - lr: 1.0000e-04\n",
      "Epoch 4/70\n",
      "19/19 [==============================] - 1s 48ms/step - loss: 0.2852 - accuracy: 0.8710 - val_loss: 1.3852 - val_accuracy: 0.5462 - lr: 1.0000e-04\n",
      "Epoch 5/70\n",
      "19/19 [==============================] - 1s 46ms/step - loss: 0.2678 - accuracy: 0.8753 - val_loss: 1.1199 - val_accuracy: 0.5966 - lr: 1.0000e-04\n",
      "Epoch 6/70\n",
      "19/19 [==============================] - 1s 45ms/step - loss: 0.2379 - accuracy: 0.9112 - val_loss: 0.9519 - val_accuracy: 0.6555 - lr: 1.0000e-04\n",
      "Epoch 7/70\n",
      "19/19 [==============================] - 1s 45ms/step - loss: 0.2239 - accuracy: 0.9091 - val_loss: 1.2981 - val_accuracy: 0.5966 - lr: 1.0000e-04\n",
      "Epoch 8/70\n",
      "19/19 [==============================] - 1s 43ms/step - loss: 0.1981 - accuracy: 0.9175 - val_loss: 0.9951 - val_accuracy: 0.6891 - lr: 1.0000e-04\n",
      "Epoch 9/70\n",
      "19/19 [==============================] - 1s 44ms/step - loss: 0.2123 - accuracy: 0.9091 - val_loss: 1.2372 - val_accuracy: 0.6303 - lr: 1.0000e-04\n",
      "Epoch 10/70\n",
      "19/19 [==============================] - 1s 44ms/step - loss: 0.1943 - accuracy: 0.9175 - val_loss: 1.7240 - val_accuracy: 0.5210 - lr: 1.0000e-04\n",
      "Epoch 11/70\n",
      "19/19 [==============================] - 1s 43ms/step - loss: 0.1750 - accuracy: 0.9154 - val_loss: 2.0732 - val_accuracy: 0.4790 - lr: 1.0000e-04\n",
      "Epoch 12/70\n",
      "19/19 [==============================] - 1s 44ms/step - loss: 0.1651 - accuracy: 0.9281 - val_loss: 1.7602 - val_accuracy: 0.5546 - lr: 1.0000e-04\n",
      "Epoch 13/70\n",
      "19/19 [==============================] - 1s 43ms/step - loss: 0.1689 - accuracy: 0.9281 - val_loss: 1.6797 - val_accuracy: 0.5630 - lr: 1.0000e-04\n",
      "Epoch 14/70\n",
      "19/19 [==============================] - 1s 43ms/step - loss: 0.1482 - accuracy: 0.9450 - val_loss: 1.7167 - val_accuracy: 0.5378 - lr: 1.0000e-04\n",
      "Epoch 15/70\n",
      "19/19 [==============================] - 1s 44ms/step - loss: 0.1668 - accuracy: 0.9429 - val_loss: 1.9329 - val_accuracy: 0.5042 - lr: 1.0000e-04\n",
      "Epoch 16/70\n",
      "19/19 [==============================] - 1s 43ms/step - loss: 0.1549 - accuracy: 0.9345 - val_loss: 1.2689 - val_accuracy: 0.6471 - lr: 1.0000e-04\n",
      "Epoch 17/70\n",
      "19/19 [==============================] - 1s 44ms/step - loss: 0.1157 - accuracy: 0.9619 - val_loss: 1.2815 - val_accuracy: 0.5882 - lr: 1.0000e-04\n",
      "Epoch 18/70\n",
      "19/19 [==============================] - 1s 44ms/step - loss: 0.1876 - accuracy: 0.9323 - val_loss: 1.5594 - val_accuracy: 0.5462 - lr: 1.0000e-04\n",
      "Epoch 19/70\n",
      "19/19 [==============================] - 1s 43ms/step - loss: 0.1667 - accuracy: 0.9387 - val_loss: 0.7655 - val_accuracy: 0.7563 - lr: 1.0000e-04\n",
      "Epoch 20/70\n",
      "19/19 [==============================] - 1s 43ms/step - loss: 0.1560 - accuracy: 0.9387 - val_loss: 1.6694 - val_accuracy: 0.5294 - lr: 1.0000e-04\n",
      "Epoch 21/70\n",
      "19/19 [==============================] - 1s 43ms/step - loss: 0.1360 - accuracy: 0.9366 - val_loss: 1.2702 - val_accuracy: 0.6723 - lr: 1.0000e-04\n",
      "Epoch 22/70\n",
      "19/19 [==============================] - 1s 43ms/step - loss: 0.1452 - accuracy: 0.9345 - val_loss: 1.2585 - val_accuracy: 0.6387 - lr: 5.0000e-05\n",
      "Epoch 23/70\n",
      "19/19 [==============================] - 1s 43ms/step - loss: 0.1470 - accuracy: 0.9408 - val_loss: 1.3032 - val_accuracy: 0.6387 - lr: 5.0000e-05\n",
      "Epoch 24/70\n",
      "19/19 [==============================] - 1s 43ms/step - loss: 0.0937 - accuracy: 0.9577 - val_loss: 1.3752 - val_accuracy: 0.6303 - lr: 5.0000e-05\n",
      "Epoch 25/70\n",
      "19/19 [==============================] - 1s 44ms/step - loss: 0.1236 - accuracy: 0.9429 - val_loss: 1.2243 - val_accuracy: 0.6807 - lr: 5.0000e-05\n",
      "Epoch 26/70\n",
      "19/19 [==============================] - 1s 44ms/step - loss: 0.1127 - accuracy: 0.9556 - val_loss: 1.3962 - val_accuracy: 0.6471 - lr: 5.0000e-05\n",
      "Epoch 27/70\n",
      "19/19 [==============================] - 1s 43ms/step - loss: 0.1118 - accuracy: 0.9619 - val_loss: 1.4617 - val_accuracy: 0.6387 - lr: 5.0000e-05\n",
      "Epoch 28/70\n",
      "19/19 [==============================] - 1s 43ms/step - loss: 0.1014 - accuracy: 0.9556 - val_loss: 0.9583 - val_accuracy: 0.7311 - lr: 5.0000e-05\n",
      "Epoch 29/70\n",
      "19/19 [==============================] - 1s 44ms/step - loss: 0.1225 - accuracy: 0.9598 - val_loss: 1.2924 - val_accuracy: 0.6218 - lr: 5.0000e-05\n",
      "Epoch 30/70\n",
      "19/19 [==============================] - 1s 43ms/step - loss: 0.0811 - accuracy: 0.9789 - val_loss: 1.4931 - val_accuracy: 0.5714 - lr: 5.0000e-05\n",
      "Epoch 31/70\n",
      "19/19 [==============================] - 1s 43ms/step - loss: 0.0646 - accuracy: 0.9873 - val_loss: 1.2322 - val_accuracy: 0.6723 - lr: 5.0000e-05\n",
      "Epoch 32/70\n",
      "19/19 [==============================] - 1s 44ms/step - loss: 0.0741 - accuracy: 0.9746 - val_loss: 1.2734 - val_accuracy: 0.6723 - lr: 1.0000e-05\n",
      "Epoch 33/70\n",
      "19/19 [==============================] - 1s 43ms/step - loss: 0.0880 - accuracy: 0.9704 - val_loss: 1.2380 - val_accuracy: 0.6639 - lr: 1.0000e-05\n",
      "Epoch 34/70\n",
      "19/19 [==============================] - 1s 43ms/step - loss: 0.0692 - accuracy: 0.9789 - val_loss: 1.2802 - val_accuracy: 0.6555 - lr: 1.0000e-05\n",
      "Epoch 35/70\n",
      "19/19 [==============================] - 1s 43ms/step - loss: 0.0732 - accuracy: 0.9746 - val_loss: 1.3765 - val_accuracy: 0.6471 - lr: 1.0000e-05\n",
      "Epoch 36/70\n",
      "19/19 [==============================] - 1s 43ms/step - loss: 0.0841 - accuracy: 0.9619 - val_loss: 1.4554 - val_accuracy: 0.6134 - lr: 1.0000e-05\n",
      "Epoch 37/70\n",
      "19/19 [==============================] - 1s 43ms/step - loss: 0.0636 - accuracy: 0.9767 - val_loss: 1.5130 - val_accuracy: 0.6050 - lr: 1.0000e-05\n",
      "Epoch 38/70\n",
      "19/19 [==============================] - 1s 44ms/step - loss: 0.0835 - accuracy: 0.9725 - val_loss: 1.5812 - val_accuracy: 0.6134 - lr: 1.0000e-05\n",
      "Epoch 39/70\n",
      "19/19 [==============================] - 1s 43ms/step - loss: 0.0771 - accuracy: 0.9789 - val_loss: 1.5647 - val_accuracy: 0.6134 - lr: 1.0000e-05\n",
      "Epoch 40/70\n",
      "19/19 [==============================] - 1s 44ms/step - loss: 0.0478 - accuracy: 0.9873 - val_loss: 1.5754 - val_accuracy: 0.6050 - lr: 1.0000e-05\n",
      "Epoch 41/70\n",
      "19/19 [==============================] - 1s 43ms/step - loss: 0.0674 - accuracy: 0.9767 - val_loss: 1.5829 - val_accuracy: 0.6050 - lr: 1.0000e-05\n",
      "Epoch 42/70\n",
      "19/19 [==============================] - 1s 43ms/step - loss: 0.0683 - accuracy: 0.9725 - val_loss: 1.5114 - val_accuracy: 0.6050 - lr: 1.0000e-05\n",
      "Epoch 43/70\n",
      "19/19 [==============================] - 1s 44ms/step - loss: 0.0477 - accuracy: 0.9873 - val_loss: 1.5511 - val_accuracy: 0.6134 - lr: 1.0000e-05\n",
      "Epoch 44/70\n",
      "19/19 [==============================] - 1s 43ms/step - loss: 0.0673 - accuracy: 0.9810 - val_loss: 1.5704 - val_accuracy: 0.6050 - lr: 1.0000e-05\n",
      "Epoch 45/70\n",
      "19/19 [==============================] - 1s 45ms/step - loss: 0.0863 - accuracy: 0.9704 - val_loss: 1.6418 - val_accuracy: 0.5966 - lr: 1.0000e-05\n",
      "Epoch 46/70\n",
      "19/19 [==============================] - 1s 44ms/step - loss: 0.0708 - accuracy: 0.9767 - val_loss: 1.5760 - val_accuracy: 0.6050 - lr: 1.0000e-05\n",
      "Epoch 47/70\n",
      "19/19 [==============================] - 1s 43ms/step - loss: 0.0800 - accuracy: 0.9725 - val_loss: 1.6355 - val_accuracy: 0.6050 - lr: 1.0000e-05\n",
      "Epoch 48/70\n",
      "19/19 [==============================] - 1s 45ms/step - loss: 0.0427 - accuracy: 0.9915 - val_loss: 1.5802 - val_accuracy: 0.6218 - lr: 1.0000e-05\n",
      "Epoch 49/70\n",
      "19/19 [==============================] - 1s 44ms/step - loss: 0.0636 - accuracy: 0.9725 - val_loss: 1.4912 - val_accuracy: 0.6303 - lr: 1.0000e-05\n",
      "Epoch 50/70\n",
      "19/19 [==============================] - 1s 43ms/step - loss: 0.0549 - accuracy: 0.9852 - val_loss: 1.4938 - val_accuracy: 0.6218 - lr: 1.0000e-05\n",
      "Epoch 51/70\n",
      "19/19 [==============================] - 1s 43ms/step - loss: 0.0544 - accuracy: 0.9873 - val_loss: 1.5204 - val_accuracy: 0.6303 - lr: 1.0000e-05\n",
      "Epoch 52/70\n",
      "19/19 [==============================] - 1s 43ms/step - loss: 0.0650 - accuracy: 0.9746 - val_loss: 1.6550 - val_accuracy: 0.5966 - lr: 1.0000e-05\n",
      "Epoch 53/70\n",
      "19/19 [==============================] - 1s 43ms/step - loss: 0.0525 - accuracy: 0.9831 - val_loss: 1.5315 - val_accuracy: 0.6134 - lr: 1.0000e-05\n",
      "Epoch 54/70\n",
      "19/19 [==============================] - 1s 43ms/step - loss: 0.0603 - accuracy: 0.9746 - val_loss: 1.5420 - val_accuracy: 0.6134 - lr: 1.0000e-05\n",
      "Epoch 54: early stopping\n",
      "1/6 [====>.........................] - ETA: 0s - loss: 0.4024 - accuracy: 0.9062"
     ]
    },
    {
     "name": "stderr",
     "output_type": "stream",
     "text": [
      "C:\\Users\\Natou\\AppData\\Local\\Packages\\PythonSoftwareFoundation.Python.3.10_qbz5n2kfra8p0\\LocalCache\\local-packages\\Python310\\site-packages\\keras\\src\\engine\\training.py:3103: UserWarning: You are saving your model as an HDF5 file via `model.save()`. This file format is considered legacy. We recommend using instead the native Keras format, e.g. `model.save('my_model.keras')`.\n",
      "  saving_api.save_model(\n"
     ]
    },
    {
     "name": "stdout",
     "output_type": "stream",
     "text": [
      "6/6 [==============================] - 0s 21ms/step - loss: 0.4709 - accuracy: 0.8750\n",
      "Test loss: 0.4708890914916992\n",
      "Test accuracy: 0.875\n",
      "6/6 [==============================] - 0s 20ms/step\n"
     ]
    },
    {
     "data": {
      "image/png": "[encoded data removed]",
      "text/plain": [
       "<Figure size 800x600 with 2 Axes>"
      ]
     },
     "metadata": {},
     "output_type": "display_data"
    }
   ],
   "source": [
    "es = EarlyStopping(monitor='val_loss', mode='min', verbose=3, patience=35)\n",
    "lr_scheduler = LearningRateScheduler(lr_schedule)\n",
    "model.compile(loss='sparse_categorical_crossentropy', optimizer='adam', metrics=['accuracy'])\n",
    "model.fit(x_train, y_train, batch_size=25, epochs=70, verbose=1, validation_split=0.2, callbacks=[es, lr_scheduler])\n",
    "model.save('model.h5')\n",
    "score=model.evaluate(x_test, y_test, verbose=1)\n",
    "\n",
    "print('Test loss:', score[0])\n",
    "print('Test accuracy:', score[1])\n",
    "\n",
    "y_pred_probs = model.predict(x_test)\n",
    "#print(y_pred_probs)\n",
    "y_pred = np.argmax(y_pred_probs, axis=1)\n",
    "conf_mat = confusion_matrix(y_test, y_pred)\n",
    "\n",
    "plt.figure(figsize=(8, 6))\n",
    "sns.heatmap(conf_mat, annot=True, fmt='d', cmap='Blues', xticklabels=['malade', 'non_malade'], yticklabels=['malade', 'non_malade'])\n",
    "plt.title('Confusion Matrix')\n",
    "plt.xlabel('Predicted')\n",
    "plt.ylabel('Actual')\n",
    "plt.show()"
   ]
  },
  {
   "cell_type": "markdown",
   "metadata": {},
   "source": [
    "Nous pouvons remarquer une légère baisse de performance, neanmoins les résultats sont tout de même bons à hauteur de 87 %"
   ]
  }
 ],
 "metadata": {
  "kernelspec": {
   "display_name": "Python 3",
   "language": "python",
   "name": "python3"
  },
  "language_info": {
   "codemirror_mode": {
    "name": "ipython",
    "version": 3
   },
   "file_extension": ".py",
   "mimetype": "text/x-python",
   "name": "python",
   "nbconvert_exporter": "python",
   "pygments_lexer": "ipython3",
   "version": "3.10.11"
  }
 },
 "nbformat": 4,
 "nbformat_minor": 2
}
