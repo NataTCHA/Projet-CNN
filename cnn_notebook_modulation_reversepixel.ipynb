{
 "cells": [
  {
   "cell_type": "markdown",
   "metadata": {},
   "source": [
    "**CNN avec bande modulation cepstrale sur corpus glides pixels mélangés**"
   ]
  },
  {
   "cell_type": "markdown",
   "metadata": {},
   "source": [
    "Ce model complètementaire sert à comparer équitablement le CNN face au SVM après les suggestions de Mr Audibert\n",
    "\n",
    "\n",
    "Importation des bibliothèques"
   ]
  },
  {
   "cell_type": "code",
   "execution_count": 45,
   "metadata": {},
   "outputs": [],
   "source": [
    "import os\n",
    "import cv2\n",
    "import numpy as np\n",
    "from sklearn.model_selection import train_test_split\n",
    "from tensorflow.keras import Sequential\n",
    "from tensorflow.keras.layers import Conv2D, MaxPooling2D, Flatten, Dense, Dropout\n",
    "from tensorflow.keras.callbacks import EarlyStopping, LearningRateScheduler\n",
    "from tensorflow.keras.optimizers import Adam\n",
    "from tensorflow.keras.layers import BatchNormalization\n",
    "from keras.layers import ZeroPadding2D, Conv2D\n",
    "from sklearn.metrics import confusion_matrix\n",
    "import matplotlib.pyplot as plt\n",
    "import seaborn as sns\n",
    "import random\n",
    "import numpy as np\n",
    "import glob\n",
    "import csv\n",
    "from sklearn.metrics import confusion_matrix"
   ]
  },
  {
   "cell_type": "markdown",
   "metadata": {},
   "source": [
    "Importation du corpus train et test pour la classe malade et sain a été réalisation en deux groupes pour chacun , malade et non malade. \n",
    "Le choix de la taille des images a été fait empiriquement, au départ nous voulions faire 1*28 car l'image d'entrée est une bande, neanmoins les performances du modèle baissées drastiquement. De plus cette importation en bande nous laissait peu de marge de manoeuvre pour le choix des kernels , alors, nous avons opté pour un format carré."
   ]
  },
  {
   "cell_type": "code",
   "execution_count": 46,
   "metadata": {},
   "outputs": [],
   "source": [
    "list_malade = glob.glob('malade_mfcc_glides/test/*')\n",
    "list_ok = glob.glob('sain_mfcc_glides/test/*')\n",
    "img_rows=28\n",
    "img_cols=28\n",
    "x_test = []  \n",
    "y_test = []\n",
    "\n",
    "dico = {'malade': 0, 'non_malade': 1}\n",
    "#test\n",
    "for path in list_malade:\n",
    "    x=cv2.imread(path,0).astype(np.uint8)\n",
    "    x=cv2.resize(x,(img_rows,img_cols))\n",
    "    y = dico['malade']\n",
    "    x_test.append(x)\n",
    "    y_test.append(y)\n",
    "\n",
    "for path in list_ok:\n",
    "    x=cv2.imread(path,0).astype(np.uint8)\n",
    "    x=cv2.resize(x,(img_rows,img_cols))\n",
    "    y = dico['non_malade']\n",
    "    x_test.append(x)\n",
    "    y_test.append(y)\n",
    "\n",
    "\n",
    "#train\n",
    "\n",
    "list_malade_train = glob.glob('malade_mfcc_glides/train/*')\n",
    "list_ok_train = glob.glob('sain_mfcc_glides/train/*')\n",
    "\n",
    "x_train = []\n",
    "y_train = []\n",
    "\n",
    "\n",
    "for path in list_malade_train:\n",
    "    x = cv2.imread(path, 0).astype(np.uint8)\n",
    "    x = cv2.resize(x, (img_rows, img_cols))\n",
    "    y = dico['malade']\n",
    "    x_train.append(x)\n",
    "    y_train.append(y)\n",
    "\n",
    "for path in list_ok_train:\n",
    "    x = cv2.imread(path, 0).astype(np.uint8)\n",
    "    x = cv2.resize(x, (img_rows, img_cols))\n",
    "    y = dico['non_malade']\n",
    "    x_train.append(x)\n",
    "    y_train.append(y)\n",
    "\n",
    "x_train = np.array(x_train)\n",
    "y_train = np.array(y_train)\n",
    "x_test = np.array(x_test)\n",
    "y_test = np.array(y_test)\n",
    "# Mélanger les pixels à l'intérieur de chaque vecteur dans x_train\n",
    "for i in range(len(x_train)):\n",
    "    np.random.shuffle(x_train[i])\n",
    "\n",
    "# Mélanger les pixels à l'intérieur de chaque vecteur dans x_test\n",
    "for i in range(len(x_test)):\n",
    "    np.random.shuffle(x_test[i])\n",
    "x_train = x_train.reshape(-1, img_rows, img_cols, 1)\n",
    "x_test = x_test.reshape(-1, img_rows, img_cols, 1)\n",
    "x_train = x_train.astype('float32') / 255\n",
    "x_test = x_test.astype('float32') / 255"
   ]
  },
  {
   "cell_type": "markdown",
   "metadata": {},
   "source": [
    "Définition de la fonction sheduler permettant de faire évoluer le taux d'apprentissage en fonction du nombre d'epoch"
   ]
  },
  {
   "cell_type": "code",
   "execution_count": 47,
   "metadata": {},
   "outputs": [],
   "source": [
    "def lr_schedule(epoch):\n",
    "    lr = 1e-4\n",
    "    if epoch > 30:\n",
    "        lr *= 0.1\n",
    "    elif epoch > 20:\n",
    "        lr *= 0.5\n",
    "    return lr"
   ]
  },
  {
   "cell_type": "markdown",
   "metadata": {},
   "source": [
    "Lors de l'initialisation du modèle nous avons opté pour une couche de normalisation sous la plupart des couches denses, cela a permis d'améliorer les performances du programme. Le choix de la fonction d'activation sigmoid s'est fait car c'est une tâche de classification en 2 classes. L'activation relu a été utilisé car c'est celle qui a le mieux fonctionner, la fonction tanh fonctionnait aussi plutôt bien mais nous avions des pertes de performances."
   ]
  },
  {
   "cell_type": "code",
   "execution_count": 48,
   "metadata": {},
   "outputs": [
    {
     "name": "stdout",
     "output_type": "stream",
     "text": [
      "Model: \"sequential_6\"\n",
      "_________________________________________________________________\n",
      " Layer (type)                Output Shape              Param #   \n",
      "=================================================================\n",
      " conv2d_18 (Conv2D)          (None, 28, 28, 512)       2560      \n",
      "                                                                 \n",
      " batch_normalization_30 (Ba  (None, 28, 28, 512)       2048      \n",
      " tchNormalization)                                               \n",
      "                                                                 \n",
      " zero_padding2d_6 (ZeroPadd  (None, 28, 28, 512)       0         \n",
      " ing2D)                                                          \n",
      "                                                                 \n",
      " max_pooling2d_18 (MaxPooli  (None, 14, 14, 512)       0         \n",
      " ng2D)                                                           \n",
      "                                                                 \n",
      " conv2d_19 (Conv2D)          (None, 14, 14, 256)       524544    \n",
      "                                                                 \n",
      " batch_normalization_31 (Ba  (None, 14, 14, 256)       1024      \n",
      " tchNormalization)                                               \n",
      "                                                                 \n",
      " max_pooling2d_19 (MaxPooli  (None, 7, 7, 256)         0         \n",
      " ng2D)                                                           \n",
      "                                                                 \n",
      " conv2d_20 (Conv2D)          (None, 7, 7, 128)         131200    \n",
      "                                                                 \n",
      " batch_normalization_32 (Ba  (None, 7, 7, 128)         512       \n",
      " tchNormalization)                                               \n",
      "                                                                 \n",
      " max_pooling2d_20 (MaxPooli  (None, 3, 3, 128)         0         \n",
      " ng2D)                                                           \n",
      "                                                                 \n",
      " flatten_6 (Flatten)         (None, 1152)              0         \n",
      "                                                                 \n",
      " dropout_6 (Dropout)         (None, 1152)              0         \n",
      "                                                                 \n",
      " dense_18 (Dense)            (None, 512)               590336    \n",
      "                                                                 \n",
      " batch_normalization_33 (Ba  (None, 512)               2048      \n",
      " tchNormalization)                                               \n",
      "                                                                 \n",
      " dense_19 (Dense)            (None, 256)               131328    \n",
      "                                                                 \n",
      " batch_normalization_34 (Ba  (None, 256)               1024      \n",
      " tchNormalization)                                               \n",
      "                                                                 \n",
      " dense_20 (Dense)            (None, 2)                 514       \n",
      "                                                                 \n",
      "=================================================================\n",
      "Total params: 1387138 (5.29 MB)\n",
      "Trainable params: 1383810 (5.28 MB)\n",
      "Non-trainable params: 3328 (13.00 KB)\n",
      "_________________________________________________________________\n"
     ]
    }
   ],
   "source": [
    "model = Sequential()\n",
    "model.add(Conv2D(512, kernel_size=(2, 2), activation='relu', input_shape=(img_rows, img_cols, 1), padding='same'))\n",
    "model.add(BatchNormalization())\n",
    "value_top = 0\n",
    "value_bottom = 0\n",
    "value_left = 0\n",
    "value_right = 0\n",
    "model.add(ZeroPadding2D(padding=((value_top, value_bottom), (value_left, value_right))))\n",
    "model.add(MaxPooling2D(pool_size=(2, 2)))\n",
    "model.add(Conv2D(256, (2, 2), activation='relu', padding='same'))\n",
    "model.add(BatchNormalization())\n",
    "model.add(MaxPooling2D(pool_size=(2, 2)))\n",
    "model.add(Conv2D(128, (2, 2), activation='relu', padding='same'))\n",
    "model.add(BatchNormalization())\n",
    "model.add(MaxPooling2D(pool_size=(2, 2)))\n",
    "model.add(Flatten())\n",
    "model.add(Dropout(0.5))\n",
    "model.add(Dense(512, activation='relu'))\n",
    "model.add(BatchNormalization())\n",
    "model.add(Dense(256, activation='relu'))\n",
    "model.add(BatchNormalization())\n",
    "model.add(Dense(2, activation='sigmoid'))\n",
    "model.summary()"
   ]
  },
  {
   "cell_type": "markdown",
   "metadata": {},
   "source": [
    "Lancement de l'entrainement et de l'évaluation. Nous avons choisi 25 epochs pour que ça concorde avec notre nombre de donnée. Le choix de l'epoch s'est fait à l'aide de la visualitation du graphique du nombre d'epoch en fonction du taux d'apprentissage. De plus nous avons la fonction early stopping qui nous permet d'éviter le surapprentissage, lorsque le modèle cesse de s\"améliorer nous l'arrêtons."
   ]
  },
  {
   "cell_type": "code",
   "execution_count": 54,
   "metadata": {},
   "outputs": [
    {
     "name": "stdout",
     "output_type": "stream",
     "text": [
      "Epoch 1/70\n",
      "19/19 [==============================] - 2s 52ms/step - loss: 0.1374 - accuracy: 0.9366 - val_loss: 2.3034 - val_accuracy: 0.4874 - lr: 1.0000e-04\n",
      "Epoch 2/70\n",
      "19/19 [==============================] - 1s 43ms/step - loss: 0.1153 - accuracy: 0.9683 - val_loss: 2.6833 - val_accuracy: 0.3950 - lr: 1.0000e-04\n",
      "Epoch 3/70\n",
      "19/19 [==============================] - 1s 43ms/step - loss: 0.1053 - accuracy: 0.9598 - val_loss: 2.7844 - val_accuracy: 0.3529 - lr: 1.0000e-04\n",
      "Epoch 4/70\n",
      "19/19 [==============================] - 1s 43ms/step - loss: 0.1176 - accuracy: 0.9514 - val_loss: 3.4892 - val_accuracy: 0.2773 - lr: 1.0000e-04\n",
      "Epoch 5/70\n",
      "19/19 [==============================] - 1s 45ms/step - loss: 0.0853 - accuracy: 0.9704 - val_loss: 2.6289 - val_accuracy: 0.3697 - lr: 1.0000e-04\n",
      "Epoch 6/70\n",
      "19/19 [==============================] - 1s 45ms/step - loss: 0.0765 - accuracy: 0.9704 - val_loss: 2.0997 - val_accuracy: 0.5042 - lr: 1.0000e-04\n",
      "Epoch 7/70\n",
      "19/19 [==============================] - 1s 48ms/step - loss: 0.0706 - accuracy: 0.9789 - val_loss: 2.3348 - val_accuracy: 0.4454 - lr: 1.0000e-04\n",
      "Epoch 8/70\n",
      "19/19 [==============================] - 1s 47ms/step - loss: 0.0731 - accuracy: 0.9810 - val_loss: 1.8372 - val_accuracy: 0.5378 - lr: 1.0000e-04\n",
      "Epoch 9/70\n",
      "19/19 [==============================] - 1s 46ms/step - loss: 0.0683 - accuracy: 0.9725 - val_loss: 1.6412 - val_accuracy: 0.5714 - lr: 1.0000e-04\n",
      "Epoch 10/70\n",
      "19/19 [==============================] - 1s 43ms/step - loss: 0.0735 - accuracy: 0.9746 - val_loss: 1.9766 - val_accuracy: 0.5042 - lr: 1.0000e-04\n",
      "Epoch 11/70\n",
      "19/19 [==============================] - 1s 42ms/step - loss: 0.0644 - accuracy: 0.9767 - val_loss: 1.6681 - val_accuracy: 0.5462 - lr: 1.0000e-04\n",
      "Epoch 12/70\n",
      "19/19 [==============================] - 1s 43ms/step - loss: 0.0704 - accuracy: 0.9789 - val_loss: 1.6558 - val_accuracy: 0.5714 - lr: 1.0000e-04\n",
      "Epoch 13/70\n",
      "19/19 [==============================] - 1s 42ms/step - loss: 0.0614 - accuracy: 0.9810 - val_loss: 1.8705 - val_accuracy: 0.5126 - lr: 1.0000e-04\n",
      "Epoch 14/70\n",
      "19/19 [==============================] - 1s 42ms/step - loss: 0.0770 - accuracy: 0.9746 - val_loss: 1.9464 - val_accuracy: 0.5546 - lr: 1.0000e-04\n",
      "Epoch 15/70\n",
      "19/19 [==============================] - 1s 43ms/step - loss: 0.0567 - accuracy: 0.9789 - val_loss: 1.7759 - val_accuracy: 0.5798 - lr: 1.0000e-04\n",
      "Epoch 16/70\n",
      "19/19 [==============================] - 1s 44ms/step - loss: 0.0647 - accuracy: 0.9746 - val_loss: 1.3955 - val_accuracy: 0.6723 - lr: 1.0000e-04\n",
      "Epoch 17/70\n",
      "19/19 [==============================] - 1s 43ms/step - loss: 0.0687 - accuracy: 0.9704 - val_loss: 1.8801 - val_accuracy: 0.5630 - lr: 1.0000e-04\n",
      "Epoch 18/70\n",
      "19/19 [==============================] - 1s 45ms/step - loss: 0.0707 - accuracy: 0.9810 - val_loss: 1.4961 - val_accuracy: 0.6387 - lr: 1.0000e-04\n",
      "Epoch 19/70\n",
      "19/19 [==============================] - 1s 43ms/step - loss: 0.0817 - accuracy: 0.9746 - val_loss: 1.4216 - val_accuracy: 0.6303 - lr: 1.0000e-04\n",
      "Epoch 20/70\n",
      "19/19 [==============================] - 1s 43ms/step - loss: 0.1088 - accuracy: 0.9577 - val_loss: 1.0910 - val_accuracy: 0.6975 - lr: 1.0000e-04\n",
      "Epoch 21/70\n",
      "19/19 [==============================] - 1s 42ms/step - loss: 0.0547 - accuracy: 0.9767 - val_loss: 1.2625 - val_accuracy: 0.6555 - lr: 1.0000e-04\n",
      "Epoch 22/70\n",
      "19/19 [==============================] - 1s 43ms/step - loss: 0.0487 - accuracy: 0.9831 - val_loss: 1.4618 - val_accuracy: 0.6555 - lr: 5.0000e-05\n",
      "Epoch 23/70\n",
      "19/19 [==============================] - 1s 43ms/step - loss: 0.0382 - accuracy: 0.9915 - val_loss: 1.6185 - val_accuracy: 0.6387 - lr: 5.0000e-05\n",
      "Epoch 24/70\n",
      "19/19 [==============================] - 1s 42ms/step - loss: 0.0292 - accuracy: 0.9937 - val_loss: 1.6162 - val_accuracy: 0.6387 - lr: 5.0000e-05\n",
      "Epoch 25/70\n",
      "19/19 [==============================] - 1s 43ms/step - loss: 0.0374 - accuracy: 0.9894 - val_loss: 1.7236 - val_accuracy: 0.6050 - lr: 5.0000e-05\n",
      "Epoch 26/70\n",
      "19/19 [==============================] - 1s 42ms/step - loss: 0.0336 - accuracy: 0.9894 - val_loss: 1.9801 - val_accuracy: 0.5378 - lr: 5.0000e-05\n",
      "Epoch 27/70\n",
      "19/19 [==============================] - 1s 42ms/step - loss: 0.0293 - accuracy: 0.9937 - val_loss: 1.7495 - val_accuracy: 0.6303 - lr: 5.0000e-05\n",
      "Epoch 28/70\n",
      "19/19 [==============================] - 1s 43ms/step - loss: 0.0274 - accuracy: 0.9852 - val_loss: 1.7774 - val_accuracy: 0.6218 - lr: 5.0000e-05\n",
      "Epoch 29/70\n",
      "19/19 [==============================] - 1s 43ms/step - loss: 0.0521 - accuracy: 0.9789 - val_loss: 1.9927 - val_accuracy: 0.5798 - lr: 5.0000e-05\n",
      "Epoch 30/70\n",
      "19/19 [==============================] - 1s 42ms/step - loss: 0.0486 - accuracy: 0.9746 - val_loss: 1.9600 - val_accuracy: 0.5798 - lr: 5.0000e-05\n",
      "Epoch 31/70\n",
      "19/19 [==============================] - 1s 44ms/step - loss: 0.0364 - accuracy: 0.9873 - val_loss: 2.0579 - val_accuracy: 0.5546 - lr: 5.0000e-05\n",
      "Epoch 32/70\n",
      "19/19 [==============================] - 1s 45ms/step - loss: 0.0320 - accuracy: 0.9894 - val_loss: 2.0529 - val_accuracy: 0.5630 - lr: 1.0000e-05\n",
      "Epoch 33/70\n",
      "19/19 [==============================] - 1s 44ms/step - loss: 0.0227 - accuracy: 0.9958 - val_loss: 2.0718 - val_accuracy: 0.5630 - lr: 1.0000e-05\n",
      "Epoch 34/70\n",
      "19/19 [==============================] - 1s 43ms/step - loss: 0.0248 - accuracy: 0.9937 - val_loss: 2.0077 - val_accuracy: 0.6050 - lr: 1.0000e-05\n",
      "Epoch 35/70\n",
      "19/19 [==============================] - 1s 43ms/step - loss: 0.0265 - accuracy: 0.9873 - val_loss: 2.0020 - val_accuracy: 0.6050 - lr: 1.0000e-05\n",
      "Epoch 36/70\n",
      "19/19 [==============================] - 1s 43ms/step - loss: 0.0273 - accuracy: 0.9915 - val_loss: 1.9365 - val_accuracy: 0.6303 - lr: 1.0000e-05\n",
      "Epoch 37/70\n",
      "19/19 [==============================] - 1s 45ms/step - loss: 0.0261 - accuracy: 0.9873 - val_loss: 1.9128 - val_accuracy: 0.6303 - lr: 1.0000e-05\n",
      "Epoch 38/70\n",
      "19/19 [==============================] - 1s 42ms/step - loss: 0.0457 - accuracy: 0.9831 - val_loss: 1.9322 - val_accuracy: 0.6303 - lr: 1.0000e-05\n",
      "Epoch 39/70\n",
      "19/19 [==============================] - 1s 42ms/step - loss: 0.0344 - accuracy: 0.9873 - val_loss: 1.9062 - val_accuracy: 0.6303 - lr: 1.0000e-05\n",
      "Epoch 40/70\n",
      "19/19 [==============================] - 1s 42ms/step - loss: 0.0315 - accuracy: 0.9852 - val_loss: 1.9197 - val_accuracy: 0.6303 - lr: 1.0000e-05\n",
      "Epoch 41/70\n",
      "19/19 [==============================] - 1s 42ms/step - loss: 0.0237 - accuracy: 0.9958 - val_loss: 1.9460 - val_accuracy: 0.6218 - lr: 1.0000e-05\n",
      "Epoch 42/70\n",
      "19/19 [==============================] - 1s 44ms/step - loss: 0.0535 - accuracy: 0.9873 - val_loss: 2.0103 - val_accuracy: 0.5882 - lr: 1.0000e-05\n",
      "Epoch 43/70\n",
      "19/19 [==============================] - 1s 42ms/step - loss: 0.0266 - accuracy: 0.9915 - val_loss: 2.0046 - val_accuracy: 0.5966 - lr: 1.0000e-05\n",
      "Epoch 44/70\n",
      "19/19 [==============================] - 1s 42ms/step - loss: 0.0317 - accuracy: 0.9873 - val_loss: 1.9708 - val_accuracy: 0.6134 - lr: 1.0000e-05\n",
      "Epoch 45/70\n",
      "19/19 [==============================] - 1s 42ms/step - loss: 0.0278 - accuracy: 0.9894 - val_loss: 2.0185 - val_accuracy: 0.5798 - lr: 1.0000e-05\n",
      "Epoch 46/70\n",
      "19/19 [==============================] - 1s 42ms/step - loss: 0.0280 - accuracy: 0.9894 - val_loss: 2.0105 - val_accuracy: 0.5882 - lr: 1.0000e-05\n",
      "Epoch 47/70\n",
      "19/19 [==============================] - 1s 43ms/step - loss: 0.0372 - accuracy: 0.9873 - val_loss: 1.9752 - val_accuracy: 0.5882 - lr: 1.0000e-05\n",
      "Epoch 48/70\n",
      "19/19 [==============================] - 1s 43ms/step - loss: 0.0234 - accuracy: 0.9915 - val_loss: 1.9568 - val_accuracy: 0.6050 - lr: 1.0000e-05\n",
      "Epoch 49/70\n",
      "19/19 [==============================] - 1s 42ms/step - loss: 0.0195 - accuracy: 0.9915 - val_loss: 1.9551 - val_accuracy: 0.6134 - lr: 1.0000e-05\n",
      "Epoch 50/70\n",
      "19/19 [==============================] - 1s 42ms/step - loss: 0.0230 - accuracy: 0.9915 - val_loss: 1.9784 - val_accuracy: 0.6134 - lr: 1.0000e-05\n",
      "Epoch 51/70\n",
      "19/19 [==============================] - 1s 43ms/step - loss: 0.0227 - accuracy: 0.9915 - val_loss: 1.9326 - val_accuracy: 0.6218 - lr: 1.0000e-05\n",
      "Epoch 52/70\n",
      "19/19 [==============================] - 1s 42ms/step - loss: 0.0310 - accuracy: 0.9852 - val_loss: 2.0008 - val_accuracy: 0.5966 - lr: 1.0000e-05\n",
      "Epoch 53/70\n",
      "19/19 [==============================] - 1s 42ms/step - loss: 0.0285 - accuracy: 0.9894 - val_loss: 2.0305 - val_accuracy: 0.5882 - lr: 1.0000e-05\n",
      "Epoch 54/70\n",
      "19/19 [==============================] - 1s 42ms/step - loss: 0.0233 - accuracy: 0.9915 - val_loss: 2.0541 - val_accuracy: 0.5882 - lr: 1.0000e-05\n",
      "Epoch 55/70\n",
      "19/19 [==============================] - 1s 42ms/step - loss: 0.0263 - accuracy: 0.9937 - val_loss: 2.0380 - val_accuracy: 0.5882 - lr: 1.0000e-05\n",
      "Epoch 55: early stopping\n",
      "6/6 [==============================] - 0s 19ms/step - loss: 0.3192 - accuracy: 0.8523\n"
     ]
    },
    {
     "name": "stderr",
     "output_type": "stream",
     "text": [
      "C:\\Users\\Natou\\AppData\\Local\\Packages\\PythonSoftwareFoundation.Python.3.10_qbz5n2kfra8p0\\LocalCache\\local-packages\\Python310\\site-packages\\keras\\src\\engine\\training.py:3103: UserWarning: You are saving your model as an HDF5 file via `model.save()`. This file format is considered legacy. We recommend using instead the native Keras format, e.g. `model.save('my_model.keras')`.\n",
      "  saving_api.save_model(\n"
     ]
    },
    {
     "name": "stdout",
     "output_type": "stream",
     "text": [
      "Test loss: 0.31919145584106445\n",
      "Test accuracy: 0.8522727489471436\n"
     ]
    }
   ],
   "source": [
    "es = EarlyStopping(monitor='val_loss', mode='min', verbose=3, patience=35)\n",
    "lr_scheduler = LearningRateScheduler(lr_schedule)\n",
    "model.compile(loss='sparse_categorical_crossentropy', optimizer='adam', metrics=['accuracy'])\n",
    "model.fit(x_train, y_train, batch_size=25, epochs=70, verbose=1, validation_split=0.2, callbacks=[es, lr_scheduler])\n",
    "model.save('model.h5')\n",
    "score=model.evaluate(x_test, y_test, verbose=1)\n",
    "\n",
    "print('Test loss:', score[0])\n",
    "print('Test accuracy:', score[1])\n"
   ]
  },
  {
   "cell_type": "markdown",
   "metadata": {},
   "source": [
    "Lancement de la prédiction sur le corpus test. Nous pouvons voir une matrice de confusion avec une diagonale bien lisible. Il a néanmoins plus de mal à classer les locuteurs de la classe non malade en raison de leur grand diversité. Les malades ont souvent le même pattern , un débit plus lent et une intensité similaire, c'est moins le cas dans le groupe non malade."
   ]
  },
  {
   "cell_type": "code",
   "execution_count": 55,
   "metadata": {},
   "outputs": [
    {
     "name": "stdout",
     "output_type": "stream",
     "text": [
      "6/6 [==============================] - 0s 18ms/step\n"
     ]
    },
    {
     "data": {
      "image/png": "[encoded data removed]",
      "text/plain": [
       "<Figure size 800x600 with 2 Axes>"
      ]
     },
     "metadata": {},
     "output_type": "display_data"
    }
   ],
   "source": [
    "y_pred_probs = model.predict(x_test)\n",
    "#print(y_pred_probs)\n",
    "y_pred = np.argmax(y_pred_probs, axis=1)\n",
    "conf_mat = confusion_matrix(y_test, y_pred)\n",
    "\n",
    "plt.figure(figsize=(8, 6))\n",
    "sns.heatmap(conf_mat, annot=True, fmt='d', cmap='Blues', xticklabels=['malade', 'non_malade'], yticklabels=['malade', 'non_malade'])\n",
    "plt.title('Confusion Matrix')\n",
    "plt.xlabel('Predicted')\n",
    "plt.ylabel('Actual')\n",
    "plt.show()"
   ]
  },
  {
   "cell_type": "markdown",
   "metadata": {},
   "source": [
    "Enregistrement des mauvaises prédictions dans un fichier CSV qui nous permet de voir qui est mal cassé et avec quel stimuli"
   ]
  },
  {
   "cell_type": "code",
   "execution_count": 57,
   "metadata": {},
   "outputs": [
    {
     "name": "stdout",
     "output_type": "stream",
     "text": [
      "c'est save :D mal_class_glides_bandes.csv\n",
      "                                                    0           1           2\n",
      "0   SCA_F_AB30_2020_11_26_ModuleTransitions_aj1.tx...      malade  non_malade\n",
      "1   SCA_F_AB30_2020_11_26_ModuleTransitions_uj4.tx...      malade  non_malade\n",
      "2   SCA_F_AB30_2020_11_26_ModuleTransitions_wi4.tx...      malade  non_malade\n",
      "3   SCA_F_AB31_2020_11_26_ModuleTransitions_aj3.tx...      malade  non_malade\n",
      "4   SCA_H_AB25_2020_11_13_ModuleTransitions_aj2.tx...      malade  non_malade\n",
      "5   SCA_H_AB25_2020_11_13_ModuleTransitions_aj3.tx...      malade  non_malade\n",
      "6   SCA_H_AB37_2020_02_11_ModuleTransitions_wi3.tx...      malade  non_malade\n",
      "7   SNC_F_AB1_2019_11_07_ModuleTransitions_aj4.txt...  non_malade      malade\n",
      "8   SNC_F_AB1_2019_11_07_ModuleTransitions_wi1.txt...  non_malade      malade\n",
      "9   SNC_F_AB1_2019_11_07_ModuleTransitions_wi2.txt...  non_malade      malade\n",
      "10  SNC_F_EC16_2019_12_13_ModuleTransitions_uj1.tx...  non_malade      malade\n",
      "11  SNC_F_SC3_2019_11_07_ModuleTransitions_aj1.txt...  non_malade      malade\n",
      "12  SNC_F_SC3_2019_11_07_ModuleTransitions_aj2.txt...  non_malade      malade\n",
      "13  SNC_F_SC3_2019_11_07_ModuleTransitions_uj1.txt...  non_malade      malade\n",
      "14  SNC_F_SC3_2019_11_07_ModuleTransitions_uj2.txt...  non_malade      malade\n",
      "15  SNC_F_SC3_2019_11_07_ModuleTransitions_uj4.txt...  non_malade      malade\n",
      "16  SNC_F_SC5_2019_11_14_ModuleTransitions_aj1.txt...  non_malade      malade\n",
      "17  SNC_F_SC5_2019_11_14_ModuleTransitions_wi2.txt...  non_malade      malade\n",
      "18  SNC_H_AB3_2019_11_20_ModuleTransitions_uj3.txt...  non_malade      malade\n",
      "19  SNC_H_AB3_2019_11_20_ModuleTransitions_wi1.txt...  non_malade      malade\n",
      "20  SNC_H_AB3_2019_11_20_ModuleTransitions_wi3.txt...  non_malade      malade\n",
      "21  SNC_H_AB7_2020_03_03_ModuleTransitions_uj3.txt...  non_malade      malade\n",
      "22  SNC_H_AB7_2020_03_03_ModuleTransitions_wi1.txt...  non_malade      malade\n",
      "23  SNC_H_AB7_2020_03_03_ModuleTransitions_wi3.txt...  non_malade      malade\n",
      "24  SNC_H_AB7_2020_03_03_ModuleTransitions_wi4.txt...  non_malade      malade\n",
      "25  SNC_H_ND4_2020_01_31_ModuleTransitions_uj3.txt...  non_malade      malade\n"
     ]
    }
   ],
   "source": [
    "\n",
    "misclassified_data = []\n",
    "\n",
    "for i in range(len(y_test)):\n",
    "    if y_test[i] != y_pred[i]:\n",
    "        actual_class = 'malade' if y_test[i] == 0 else 'non_malade'\n",
    "        predicted_class = 'malade' if y_pred[i] == 0 else 'non_malade'\n",
    "        image_name = os.path.basename(list_malade[i]) if i < len(list_malade) else os.path.basename(list_ok[i - len(list_malade)])\n",
    "        \n",
    "        misclassified_data.append([image_name, actual_class, predicted_class])\n",
    "\n",
    "csv_file_path = 'mal_class_glides_bandes.csv'\n",
    "header = ['Image Name', 'Actual Class', 'Predicted Class']\n",
    "\n",
    "with open(csv_file_path, mode='w', newline='') as file:\n",
    "    writer = csv.writer(file)\n",
    "    writer.writerow(header)\n",
    "    writer.writerows(misclassified_data)\n",
    "\n",
    "print(f\"c'est save :D {csv_file_path}\")\n",
    "import pandas as pd\n",
    "res=pd.DataFrame(misclassified_data)\n",
    "print(res)"
   ]
  },
  {
   "cell_type": "markdown",
   "metadata": {},
   "source": [
    "Ce qui est intéressant ici c'est qu'ici il classe mal les personnes peu atteinte, elles ont un score très bas dans les métadonnées ( Le locuteur AB30 et AB25 )\n",
    "Pour les locuteurs non attentin il est interessant de voir que ce sont souvent les mêmes stimus qui sont mal classés , uj et wi. Ces deux stimulis sont compliqués à prononcer et son sujet à une grande variation, cela pourrait brouiller le modèle et se voir dans les images."
   ]
  },
  {
   "cell_type": "markdown",
   "metadata": {},
   "source": [
    "Ci-dessous vous trouverez les métadonnées des personnaes avec le nom du locuteur et son taux de sévérité."
   ]
  },
  {
   "cell_type": "code",
   "execution_count": null,
   "metadata": {},
   "outputs": [],
   "source": [
    "#faire un coode qui affiche les métadonnées"
   ]
  },
  {
   "cell_type": "markdown",
   "metadata": {},
   "source": [
    "Un graphique montrant la répartition des mal cassés."
   ]
  },
  {
   "cell_type": "code",
   "execution_count": null,
   "metadata": {},
   "outputs": [],
   "source": [
    "#faire le code"
   ]
  }
 ],
 "metadata": {
  "kernelspec": {
   "display_name": "Python 3",
   "language": "python",
   "name": "python3"
  },
  "language_info": {
   "codemirror_mode": {
    "name": "ipython",
    "version": 3
   },
   "file_extension": ".py",
   "mimetype": "text/x-python",
   "name": "python",
   "nbconvert_exporter": "python",
   "pygments_lexer": "ipython3",
   "version": "3.10.11"
  }
 },
 "nbformat": 4,
 "nbformat_minor": 2
}
